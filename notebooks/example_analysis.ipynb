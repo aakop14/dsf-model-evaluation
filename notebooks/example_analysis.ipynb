{
 "cells": [
  {
   "cell_type": "markdown",
   "id": "cc1925d7-c12d-43bc-8b48-d557ccd30338",
   "metadata": {},
   "source": [
    "# Example Analysis of historical data and predictions"
   ]
  },
  {
   "cell_type": "markdown",
   "id": "c1711c0a-6ed4-4db0-91c9-748e5a95af91",
   "metadata": {},
   "source": [
    "This notebook analyzes how well the <b>DSF prediction model</b> estimates the number of trades that occur between strategy resets, by comparing:\n",
    "\n",
    "- Actual historical trading data from strategy CSVs\n",
    "- Model predictions using pool data within specific dates in template_dsf_model.xlsx \n",
    "\n",
    "The notebook:\n",
    "- Imports actual historical trading data (single/multiple)\n",
    "- Imports pool trading data and creates separate copies filtered by trading dates for each strategy\n",
    "- Fills out the template_dsf_model.xlsx file with the filtered pool data\n",
    "- Imports prediction data from the specific sheet according to mean/median trading frequency of the strategy\n",
    "- Performs statistical comparison of prediction vs actual results\n",
    "- Performs statistical hypothesis testing\n",
    "- Measures prediction error\n",
    "- Visualizes prediction vs actual results"
   ]
  },
  {
   "cell_type": "markdown",
   "id": "8bd6bde0-9bcc-4362-b441-24b75133d77e",
   "metadata": {},
   "source": [
    "<b>1. Import required for the analysis libraries and files"
   ]
  },
  {
   "cell_type": "code",
   "execution_count": 1,
   "id": "4f79703d-e962-4c29-9c76-18768318a01f",
   "metadata": {},
   "outputs": [],
   "source": [
    "import os\n",
    "import sys\n",
    "sys.path.append(\"../analysis\")\n",
    "sys.path.append(\"../utils\")\n",
    "\n",
    "\n",
    "import pandas as pd\n",
    "from IPython.display import display, Markdown\n",
    "\n",
    "from data_import import read_dex_data, read_raindex_data, read_model_predictions  \n",
    "import evaluation as ev\n",
    "import visualization as vis\n",
    "import utils"
   ]
  },
  {
   "cell_type": "markdown",
   "id": "ba9e7cdf-3213-4fd9-8485-60779ea30fed",
   "metadata": {},
   "source": [
    "<b>2. Import historical raindex data. </b>\n",
    "\n",
    "At this step user needs to enter all the names of the actual strategy data (.csv files) into 'strategy_filenames' list.<br>\n",
    "<i>(Example: strategy_filenames = ['strategy_1_file_name.csv', 'strategy_2_file_name.csv'])</i><br><br>\n",
    "The files are imported, cleaned and processed to be used in the upcoming analysis. Such fields as 'reset' and 'trade_count' are added."
   ]
  },
  {
   "cell_type": "code",
   "execution_count": 2,
   "id": "21cfd1fc-9812-449e-ad75-a9b2872dae79",
   "metadata": {},
   "outputs": [],
   "source": [
    "# Names of the csv files with historical strategy data\n",
    "# Add all the file names that contain strategy historical data \n",
    "strategy_filenames = ['base-0x0e2a8c94fc7fd892abe7d7cfa0c7baae39eba83c04c4d6cc2410bb2e4bc44972.csv'\n",
    "                        ,'base-0x5aa490f9ce3167fba059a7a3707bdbbb1d3bebae45e58b50f6add63123e95b5b.csv'\n",
    "                        ,'base-0x6579cf51a7cb1bb7d4c5bc046c3807533fe1401f1af8d43076f19196cd73fa21.csv'\n",
    "                        ,'base-0x77b971ba727992deff71b24b9a2e0363e61f20d7bef8d0fd64164d3cec3b8edf.csv'\n",
    "                        ,'base-0x858bc93684aa375c1d02a5b09d72f913c6239d6916abeb26b88ebc91679ec9b6.csv'\n",
    "                        ,'base-0x943493dae1cf0dc6882b4b48dada7bbba87d66aeffc08b996f16fe7fe2a761f2.csv'\n",
    "                        ,'base-0xbc1f0c7e6d01d6fc69aa14c45255bbe1e290907fa0b695b8c7c707b8798c474b.csv'\n",
    "                        ,'base-0xbdffe74d38286fe9182c52e79161ed9d87e71a5133c34c069b2e3e541a74f9df.csv'\n",
    "                        ,'base-0xc1b5442dda956380adf3a9f13a9ee9bea017ef2c94b28f6b11f3c22bb4e8b3bb.csv']\n",
    "# Read the csv and process dataframe accordingly\n",
    "strat_dfs = [read_raindex_data(csv_path=utils.get_data_path(strat_name, 'trade')) for strat_name in strategy_filenames]\n",
    "# Add column with time window between consecutive transactions in mins\n",
    "for index in range(len(strat_dfs)):\n",
    "    strat_dfs[index] = utils.add_timestamp_diffs(strat_dfs[index])\n",
    "    utils.add_reset_trade_count(strat_dfs[index])       \n",
    "    strat_dfs[index]['trade_count_mod'] = strat_dfs[index]['recent_reset_mod'] - strat_dfs[index]['last_reset_mod']"
   ]
  },
  {
   "cell_type": "markdown",
   "id": "56767224-2253-4581-96c4-25352296474b",
   "metadata": {},
   "source": [
    "Next, total number of entries and start/end dates of the trading period for each strategy is printed for reference."
   ]
  },
  {
   "cell_type": "code",
   "execution_count": 3,
   "id": "14cca8d2-2b5b-4662-b8aa-107eeabd0394",
   "metadata": {},
   "outputs": [
    {
     "name": "stdout",
     "output_type": "stream",
     "text": [
      "The strategy 1 dataframe contains total of 70 entries from 2024-11-14 11:36:25 to 2024-12-26 17:13:59 || file: base-0x0e2a8c94fc7fd892abe7d7cfa0c7baae39eba83c04c4d6cc2410bb2e4bc44972.csv\n",
      "The strategy 2 dataframe contains total of 228 entries from 2025-03-05 20:43:53 to 2025-04-04 16:19:53 || file: base-0x5aa490f9ce3167fba059a7a3707bdbbb1d3bebae45e58b50f6add63123e95b5b.csv\n",
      "The strategy 3 dataframe contains total of 306 entries from 2024-10-31 15:30:29 to 2024-11-17 13:10:29 || file: base-0x6579cf51a7cb1bb7d4c5bc046c3807533fe1401f1af8d43076f19196cd73fa21.csv\n",
      "The strategy 4 dataframe contains total of 268 entries from 2025-01-31 14:14:19 to 2025-02-16 12:20:27 || file: base-0x77b971ba727992deff71b24b9a2e0363e61f20d7bef8d0fd64164d3cec3b8edf.csv\n",
      "The strategy 5 dataframe contains total of 151 entries from 2024-11-06 18:34:43 to 2024-12-18 17:34:35 || file: base-0x858bc93684aa375c1d02a5b09d72f913c6239d6916abeb26b88ebc91679ec9b6.csv\n",
      "The strategy 6 dataframe contains total of 276 entries from 2025-01-21 20:37:15 to 2025-02-06 07:35:25 || file: base-0x943493dae1cf0dc6882b4b48dada7bbba87d66aeffc08b996f16fe7fe2a761f2.csv\n",
      "The strategy 7 dataframe contains total of 284 entries from 2025-01-31 14:21:17 to 2025-02-18 19:00:31 || file: base-0xbc1f0c7e6d01d6fc69aa14c45255bbe1e290907fa0b695b8c7c707b8798c474b.csv\n",
      "The strategy 8 dataframe contains total of 349 entries from 2024-10-31 16:03:05 to 2024-11-19 23:21:29 || file: base-0xbdffe74d38286fe9182c52e79161ed9d87e71a5133c34c069b2e3e541a74f9df.csv\n",
      "The strategy 9 dataframe contains total of 215 entries from 2024-11-26 22:31:35 to 2024-12-28 19:29:53 || file: base-0xc1b5442dda956380adf3a9f13a9ee9bea017ef2c94b28f6b11f3c22bb4e8b3bb.csv\n"
     ]
    }
   ],
   "source": [
    "for index, df in enumerate(strat_dfs):\n",
    "    print('The strategy {} dataframe contains total of {} entries from {} to {} || file: {}'.format(index+1, len(df), df['timestamp_date'].min(), df['timestamp_date'].max(), strategy_filenames[index]))"
   ]
  },
  {
   "cell_type": "markdown",
   "id": "0e67abd8-1a3b-4747-99ca-010e18bf7222",
   "metadata": {},
   "source": [
    "<b>3. Statistical metrics for each strategy are measured.</b><br>\n",
    "Statistical metrics for trading frequency (time between consecutive transactions in minutes) are found and combined in a single matrix. Each column here represents single strategy, while rows represent various statistical measures. The last two columns show mean and standard deviation for each row (metric). "
   ]
  },
  {
   "cell_type": "code",
   "execution_count": 4,
   "id": "1f3b7a3b-0804-4dfd-bf46-0db76789da0b",
   "metadata": {},
   "outputs": [
    {
     "data": {
      "text/markdown": [
       "**Values here are for trading frequency in minutes.**"
      ],
      "text/plain": [
       "<IPython.core.display.Markdown object>"
      ]
     },
     "metadata": {},
     "output_type": "display_data"
    },
    {
     "data": {
      "text/html": [
       "<div>\n",
       "<style scoped>\n",
       "    .dataframe tbody tr th:only-of-type {\n",
       "        vertical-align: middle;\n",
       "    }\n",
       "\n",
       "    .dataframe tbody tr th {\n",
       "        vertical-align: top;\n",
       "    }\n",
       "\n",
       "    .dataframe thead th {\n",
       "        text-align: right;\n",
       "    }\n",
       "</style>\n",
       "<table border=\"1\" class=\"dataframe\">\n",
       "  <thead>\n",
       "    <tr style=\"text-align: right;\">\n",
       "      <th></th>\n",
       "      <th>Strategy 1</th>\n",
       "      <th>Strategy 2</th>\n",
       "      <th>Strategy 3</th>\n",
       "      <th>Strategy 4</th>\n",
       "      <th>Strategy 5</th>\n",
       "      <th>Strategy 6</th>\n",
       "      <th>Strategy 7</th>\n",
       "      <th>Strategy 8</th>\n",
       "      <th>Strategy 9</th>\n",
       "      <th>Mean</th>\n",
       "      <th>Std</th>\n",
       "    </tr>\n",
       "  </thead>\n",
       "  <tbody>\n",
       "    <tr>\n",
       "      <th>mean</th>\n",
       "      <td>868.371429</td>\n",
       "      <td>187.837719</td>\n",
       "      <td>79.065359</td>\n",
       "      <td>85.089552</td>\n",
       "      <td>399.649007</td>\n",
       "      <td>80.152174</td>\n",
       "      <td>91.778169</td>\n",
       "      <td>79.148997</td>\n",
       "      <td>212.990698</td>\n",
       "      <td>231.564789</td>\n",
       "      <td>261.352200</td>\n",
       "    </tr>\n",
       "    <tr>\n",
       "      <th>median</th>\n",
       "      <td>164.000000</td>\n",
       "      <td>68.500000</td>\n",
       "      <td>7.000000</td>\n",
       "      <td>49.500000</td>\n",
       "      <td>63.000000</td>\n",
       "      <td>11.000000</td>\n",
       "      <td>21.500000</td>\n",
       "      <td>35.000000</td>\n",
       "      <td>57.000000</td>\n",
       "      <td>52.944444</td>\n",
       "      <td>47.283351</td>\n",
       "    </tr>\n",
       "    <tr>\n",
       "      <th>std</th>\n",
       "      <td>2177.010396</td>\n",
       "      <td>422.833337</td>\n",
       "      <td>760.979211</td>\n",
       "      <td>238.515099</td>\n",
       "      <td>2570.594961</td>\n",
       "      <td>595.227735</td>\n",
       "      <td>280.569430</td>\n",
       "      <td>328.357757</td>\n",
       "      <td>920.732256</td>\n",
       "      <td>921.646687</td>\n",
       "      <td>859.199336</td>\n",
       "    </tr>\n",
       "    <tr>\n",
       "      <th>cv</th>\n",
       "      <td>2.507004</td>\n",
       "      <td>2.251057</td>\n",
       "      <td>9.624685</td>\n",
       "      <td>2.803107</td>\n",
       "      <td>6.432131</td>\n",
       "      <td>7.426221</td>\n",
       "      <td>3.057039</td>\n",
       "      <td>4.148603</td>\n",
       "      <td>4.322875</td>\n",
       "      <td>4.730302</td>\n",
       "      <td>2.555073</td>\n",
       "    </tr>\n",
       "    <tr>\n",
       "      <th>mad</th>\n",
       "      <td>80.000000</td>\n",
       "      <td>38.000000</td>\n",
       "      <td>7.000000</td>\n",
       "      <td>33.500000</td>\n",
       "      <td>33.000000</td>\n",
       "      <td>11.000000</td>\n",
       "      <td>21.500000</td>\n",
       "      <td>32.000000</td>\n",
       "      <td>40.000000</td>\n",
       "      <td>32.888889</td>\n",
       "      <td>21.143524</td>\n",
       "    </tr>\n",
       "    <tr>\n",
       "      <th>min</th>\n",
       "      <td>0.000000</td>\n",
       "      <td>0.000000</td>\n",
       "      <td>0.000000</td>\n",
       "      <td>0.000000</td>\n",
       "      <td>0.000000</td>\n",
       "      <td>0.000000</td>\n",
       "      <td>0.000000</td>\n",
       "      <td>0.000000</td>\n",
       "      <td>0.000000</td>\n",
       "      <td>0.000000</td>\n",
       "      <td>0.000000</td>\n",
       "    </tr>\n",
       "    <tr>\n",
       "      <th>max</th>\n",
       "      <td>10854.000000</td>\n",
       "      <td>3269.000000</td>\n",
       "      <td>13162.000000</td>\n",
       "      <td>3537.000000</td>\n",
       "      <td>29002.000000</td>\n",
       "      <td>9776.000000</td>\n",
       "      <td>3492.000000</td>\n",
       "      <td>5715.000000</td>\n",
       "      <td>8499.000000</td>\n",
       "      <td>9700.666667</td>\n",
       "      <td>8070.721436</td>\n",
       "    </tr>\n",
       "    <tr>\n",
       "      <th>iqr</th>\n",
       "      <td>246.500000</td>\n",
       "      <td>87.250000</td>\n",
       "      <td>30.000000</td>\n",
       "      <td>65.250000</td>\n",
       "      <td>65.500000</td>\n",
       "      <td>29.000000</td>\n",
       "      <td>84.250000</td>\n",
       "      <td>70.000000</td>\n",
       "      <td>82.500000</td>\n",
       "      <td>84.472222</td>\n",
       "      <td>64.466979</td>\n",
       "    </tr>\n",
       "    <tr>\n",
       "      <th>skew</th>\n",
       "      <td>3.189937</td>\n",
       "      <td>4.560945</td>\n",
       "      <td>16.724595</td>\n",
       "      <td>11.792886</td>\n",
       "      <td>9.939540</td>\n",
       "      <td>15.766148</td>\n",
       "      <td>8.353743</td>\n",
       "      <td>15.144613</td>\n",
       "      <td>7.439768</td>\n",
       "      <td>10.323575</td>\n",
       "      <td>4.904548</td>\n",
       "    </tr>\n",
       "    <tr>\n",
       "      <th>kurtosis</th>\n",
       "      <td>9.083934</td>\n",
       "      <td>23.403386</td>\n",
       "      <td>284.438500</td>\n",
       "      <td>163.235183</td>\n",
       "      <td>103.318582</td>\n",
       "      <td>253.975203</td>\n",
       "      <td>85.258805</td>\n",
       "      <td>250.449721</td>\n",
       "      <td>57.361322</td>\n",
       "      <td>136.724960</td>\n",
       "      <td>105.119201</td>\n",
       "    </tr>\n",
       "    <tr>\n",
       "      <th>95% CI lower</th>\n",
       "      <td>349.281623</td>\n",
       "      <td>132.659013</td>\n",
       "      <td>-6.537236</td>\n",
       "      <td>56.403576</td>\n",
       "      <td>-13.694682</td>\n",
       "      <td>9.619192</td>\n",
       "      <td>59.007105</td>\n",
       "      <td>44.579290</td>\n",
       "      <td>89.217883</td>\n",
       "      <td>80.059529</td>\n",
       "      <td>111.154996</td>\n",
       "    </tr>\n",
       "    <tr>\n",
       "      <th>95% CI upper</th>\n",
       "      <td>1387.461234</td>\n",
       "      <td>243.016426</td>\n",
       "      <td>164.667955</td>\n",
       "      <td>113.775528</td>\n",
       "      <td>812.992696</td>\n",
       "      <td>150.685156</td>\n",
       "      <td>124.549233</td>\n",
       "      <td>113.718704</td>\n",
       "      <td>336.763512</td>\n",
       "      <td>383.070050</td>\n",
       "      <td>437.178362</td>\n",
       "    </tr>\n",
       "  </tbody>\n",
       "</table>\n",
       "</div>"
      ],
      "text/plain": [
       "                Strategy 1   Strategy 2    Strategy 3   Strategy 4  \\\n",
       "mean            868.371429   187.837719     79.065359    85.089552   \n",
       "median          164.000000    68.500000      7.000000    49.500000   \n",
       "std            2177.010396   422.833337    760.979211   238.515099   \n",
       "cv                2.507004     2.251057      9.624685     2.803107   \n",
       "mad              80.000000    38.000000      7.000000    33.500000   \n",
       "min               0.000000     0.000000      0.000000     0.000000   \n",
       "max           10854.000000  3269.000000  13162.000000  3537.000000   \n",
       "iqr             246.500000    87.250000     30.000000    65.250000   \n",
       "skew              3.189937     4.560945     16.724595    11.792886   \n",
       "kurtosis          9.083934    23.403386    284.438500   163.235183   \n",
       "95% CI lower    349.281623   132.659013     -6.537236    56.403576   \n",
       "95% CI upper   1387.461234   243.016426    164.667955   113.775528   \n",
       "\n",
       "                Strategy 5   Strategy 6   Strategy 7   Strategy 8  \\\n",
       "mean            399.649007    80.152174    91.778169    79.148997   \n",
       "median           63.000000    11.000000    21.500000    35.000000   \n",
       "std            2570.594961   595.227735   280.569430   328.357757   \n",
       "cv                6.432131     7.426221     3.057039     4.148603   \n",
       "mad              33.000000    11.000000    21.500000    32.000000   \n",
       "min               0.000000     0.000000     0.000000     0.000000   \n",
       "max           29002.000000  9776.000000  3492.000000  5715.000000   \n",
       "iqr              65.500000    29.000000    84.250000    70.000000   \n",
       "skew              9.939540    15.766148     8.353743    15.144613   \n",
       "kurtosis        103.318582   253.975203    85.258805   250.449721   \n",
       "95% CI lower    -13.694682     9.619192    59.007105    44.579290   \n",
       "95% CI upper    812.992696   150.685156   124.549233   113.718704   \n",
       "\n",
       "               Strategy 9         Mean          Std  \n",
       "mean           212.990698   231.564789   261.352200  \n",
       "median          57.000000    52.944444    47.283351  \n",
       "std            920.732256   921.646687   859.199336  \n",
       "cv               4.322875     4.730302     2.555073  \n",
       "mad             40.000000    32.888889    21.143524  \n",
       "min              0.000000     0.000000     0.000000  \n",
       "max           8499.000000  9700.666667  8070.721436  \n",
       "iqr             82.500000    84.472222    64.466979  \n",
       "skew             7.439768    10.323575     4.904548  \n",
       "kurtosis        57.361322   136.724960   105.119201  \n",
       "95% CI lower    89.217883    80.059529   111.154996  \n",
       "95% CI upper   336.763512   383.070050   437.178362  "
      ]
     },
     "metadata": {},
     "output_type": "display_data"
    }
   ],
   "source": [
    "# Calculate trade frequency statistics\n",
    "trade_stats = []\n",
    "for df in strat_dfs:\n",
    "    trade_stats.append(ev.describe_distribution(df['time_diff_min'], skip_first_in_min=True))\n",
    "\n",
    "strategy_stats_df = pd.DataFrame(trade_stats)\n",
    "mean = [strategy_stats_df[col].mean() for col in strategy_stats_df.columns]\n",
    "std = [strategy_stats_df[col].std() for col in strategy_stats_df.columns]\n",
    "strategy_stats_df = strategy_stats_df.T\n",
    "strategy_stats_df.columns = ['Strategy {}'.format(i+1) for i in range(len(strat_dfs))]\n",
    "strategy_stats_df['Mean'] = mean\n",
    "strategy_stats_df['Std'] = std\n",
    "\n",
    "display(Markdown(\"**Values here are for trading frequency in minutes.**\"))\n",
    "display(strategy_stats_df)"
   ]
  },
  {
   "cell_type": "markdown",
   "id": "8e639ff3-9ce9-40fe-828b-5ba6c5a76287",
   "metadata": {},
   "source": [
    "<b>Visualize time between transactions for to find trends, outliers, distribution characteristics. </b>"
   ]
  },
  {
   "cell_type": "code",
   "execution_count": 5,
   "id": "8b8943e0-3c4a-412d-9836-613afcc5ba70",
   "metadata": {},
   "outputs": [
    {
     "data": {
      "text/markdown": [
       "**Displays histograms of the time between transactions of each strategy in a grid.**"
      ],
      "text/plain": [
       "<IPython.core.display.Markdown object>"
      ]
     },
     "metadata": {},
     "output_type": "display_data"
    },
    {
     "data": {
      "image/png": "[encoded data removed]",
      "text/plain": [
       "<Figure size 1080x1080 with 9 Axes>"
      ]
     },
     "metadata": {
      "needs_background": "light"
     },
     "output_type": "display_data"
    }
   ],
   "source": [
    "display(Markdown(\"**Displays histograms of the time between transactions of each strategy in a grid.**\"))\n",
    "vis.plot_trade_time_hist_grid(strat_dfs, time_unit = 'min', bins = 200, kde = False,  fig_size = (15,15), fit_exp = False)"
   ]
  },
  {
   "cell_type": "markdown",
   "id": "4c8b89e1-7609-4e32-b904-daecdea8eff3",
   "metadata": {},
   "source": [
    "If user required further inspection of any specific strategy results, 'strategy_num' should be set to the strategy to display. <i>(e.g. strategy_num=1)"
   ]
  },
  {
   "cell_type": "code",
   "execution_count": 6,
   "id": "a060d3c5-97c3-4262-b7c4-aa77b199bd92",
   "metadata": {},
   "outputs": [
    {
     "data": {
      "text/markdown": [
       "**Displays the histogram of the time between transactions of strategy 1.**"
      ],
      "text/plain": [
       "<IPython.core.display.Markdown object>"
      ]
     },
     "metadata": {},
     "output_type": "display_data"
    },
    {
     "data": {
      "image/png": "[encoded data removed]",
      "text/plain": [
       "<Figure size 720x360 with 1 Axes>"
      ]
     },
     "metadata": {
      "needs_background": "light"
     },
     "output_type": "display_data"
    }
   ],
   "source": [
    "# Choose the number of strategy to get expanded histogram\n",
    "strategy_num = 1\n",
    "# Plot histogram of the transaction frequencies in specific strategy.\n",
    "# Skip first row \n",
    "chosen_strategy_df = strat_dfs[strategy_num-1]\n",
    "display(Markdown(f'**Displays the histogram of the time between transactions of strategy {strategy_num}.**'))\n",
    "vis.plot_trade_time_hist(chosen_strategy_df[1:], time_unit = 'min', bins = 200, kde = False, fit_exp=False)"
   ]
  },
  {
   "cell_type": "markdown",
   "id": "4a83b7c0-3214-4b46-a538-e34db426abaa",
   "metadata": {},
   "source": [
    "<b>4. Import pool data and filter transactions to match strategy trading time window.</b><br>\n",
    "\n",
    "At this step user needs to enter the name of the pool data (.csv files) into 'pool_filename'.<br>\n",
    "<i>(Example: pool_filename = 'pool_file_name.csv')</i><br><br>\n",
    "<b>This file should contain pool trading data that includes transactions for the time period containig all periods of strategy files entered above to match properly.</b>  \n",
    "The file is imported, cleaned and processed to be used in the upcoming analysis."
   ]
  },
  {
   "cell_type": "code",
   "execution_count": 7,
   "id": "92dfd9ed-b6ba-4ebe-af70-6e3901383f29",
   "metadata": {},
   "outputs": [],
   "source": [
    "# Name of the csv file with historical pool data\n",
    "pool_filename = 'wlth-usdc-pool-0x1536ee1506e24e5a36be99c73136cd82907a902e.csv'\n",
    "# Read the csv and process dataframe accordingly\n",
    "pool_df = read_dex_data(csv_path=utils.get_data_path(pool_filename, 'trade'))"
   ]
  },
  {
   "cell_type": "code",
   "execution_count": 8,
   "id": "80f4fa3e-1c45-471e-b323-a722bebbad93",
   "metadata": {},
   "outputs": [
    {
     "data": {
      "text/markdown": [
       "**Show the number of entries in the pool data and start/end dates. Display top 5 rows of the dataframe.**"
      ],
      "text/plain": [
       "<IPython.core.display.Markdown object>"
      ]
     },
     "metadata": {},
     "output_type": "display_data"
    },
    {
     "name": "stdout",
     "output_type": "stream",
     "text": [
      "The dataframe contains total of 109171 entries from 2024-05-30 12:09:07 to 2025-04-14 09:37:53\n"
     ]
    },
    {
     "data": {
      "text/html": [
       "<div>\n",
       "<style scoped>\n",
       "    .dataframe tbody tr th:only-of-type {\n",
       "        vertical-align: middle;\n",
       "    }\n",
       "\n",
       "    .dataframe tbody tr th {\n",
       "        vertical-align: top;\n",
       "    }\n",
       "\n",
       "    .dataframe thead th {\n",
       "        text-align: right;\n",
       "    }\n",
       "</style>\n",
       "<table border=\"1\" class=\"dataframe\">\n",
       "  <thead>\n",
       "    <tr style=\"text-align: right;\">\n",
       "      <th></th>\n",
       "      <th>block_number</th>\n",
       "      <th>tx_hash</th>\n",
       "      <th>token_amount_a</th>\n",
       "      <th>token_amount_b</th>\n",
       "      <th>timestamp_int</th>\n",
       "      <th>token_price_a</th>\n",
       "      <th>abs_token_b_amount</th>\n",
       "      <th>timestamp_date</th>\n",
       "      <th>timestamp_floored</th>\n",
       "      <th>tx_group</th>\n",
       "    </tr>\n",
       "  </thead>\n",
       "  <tbody>\n",
       "    <tr>\n",
       "      <th>0</th>\n",
       "      <td>15140800</td>\n",
       "      <td>0x5db47d125163117c812264d69b2114da13caf87fa66b...</td>\n",
       "      <td>50000.000000</td>\n",
       "      <td>210343.464656</td>\n",
       "      <td>1717070947</td>\n",
       "      <td>4.206869</td>\n",
       "      <td>210343.464656</td>\n",
       "      <td>2024-05-30 12:09:07</td>\n",
       "      <td>2024-05-30 12:00:00</td>\n",
       "      <td>1</td>\n",
       "    </tr>\n",
       "    <tr>\n",
       "      <th>1</th>\n",
       "      <td>15140800</td>\n",
       "      <td>0x2f0a70f9a559ae9f4a91ed920da86a307b0731a8d99e...</td>\n",
       "      <td>369.351786</td>\n",
       "      <td>2041.861601</td>\n",
       "      <td>1717070947</td>\n",
       "      <td>5.528230</td>\n",
       "      <td>2041.861601</td>\n",
       "      <td>2024-05-30 12:09:07</td>\n",
       "      <td>2024-05-30 12:00:00</td>\n",
       "      <td>1</td>\n",
       "    </tr>\n",
       "    <tr>\n",
       "      <th>2</th>\n",
       "      <td>15140800</td>\n",
       "      <td>0xb413cecefe67dfa4deacac13befc2afd0c243782e235...</td>\n",
       "      <td>147.666205</td>\n",
       "      <td>814.234289</td>\n",
       "      <td>1717070947</td>\n",
       "      <td>5.514019</td>\n",
       "      <td>814.234289</td>\n",
       "      <td>2024-05-30 12:09:07</td>\n",
       "      <td>2024-05-30 12:00:00</td>\n",
       "      <td>1</td>\n",
       "    </tr>\n",
       "    <tr>\n",
       "      <th>3</th>\n",
       "      <td>15140800</td>\n",
       "      <td>0x4bba7f8f7cf15cc8fb23eec97c2ff857e6f4d6765cba...</td>\n",
       "      <td>361.747242</td>\n",
       "      <td>1893.557563</td>\n",
       "      <td>1717070947</td>\n",
       "      <td>5.234477</td>\n",
       "      <td>1893.557563</td>\n",
       "      <td>2024-05-30 12:09:07</td>\n",
       "      <td>2024-05-30 12:00:00</td>\n",
       "      <td>1</td>\n",
       "    </tr>\n",
       "    <tr>\n",
       "      <th>4</th>\n",
       "      <td>15140800</td>\n",
       "      <td>0x41d9755bcf2772094a5f31198657cf0885bdbe39eb91...</td>\n",
       "      <td>367.354343</td>\n",
       "      <td>1999.877908</td>\n",
       "      <td>1717070947</td>\n",
       "      <td>5.444002</td>\n",
       "      <td>1999.877908</td>\n",
       "      <td>2024-05-30 12:09:07</td>\n",
       "      <td>2024-05-30 12:00:00</td>\n",
       "      <td>1</td>\n",
       "    </tr>\n",
       "  </tbody>\n",
       "</table>\n",
       "</div>"
      ],
      "text/plain": [
       "   block_number                                            tx_hash  \\\n",
       "0      15140800  0x5db47d125163117c812264d69b2114da13caf87fa66b...   \n",
       "1      15140800  0x2f0a70f9a559ae9f4a91ed920da86a307b0731a8d99e...   \n",
       "2      15140800  0xb413cecefe67dfa4deacac13befc2afd0c243782e235...   \n",
       "3      15140800  0x4bba7f8f7cf15cc8fb23eec97c2ff857e6f4d6765cba...   \n",
       "4      15140800  0x41d9755bcf2772094a5f31198657cf0885bdbe39eb91...   \n",
       "\n",
       "   token_amount_a  token_amount_b  timestamp_int  token_price_a  \\\n",
       "0    50000.000000   210343.464656     1717070947       4.206869   \n",
       "1      369.351786     2041.861601     1717070947       5.528230   \n",
       "2      147.666205      814.234289     1717070947       5.514019   \n",
       "3      361.747242     1893.557563     1717070947       5.234477   \n",
       "4      367.354343     1999.877908     1717070947       5.444002   \n",
       "\n",
       "   abs_token_b_amount      timestamp_date   timestamp_floored  tx_group  \n",
       "0       210343.464656 2024-05-30 12:09:07 2024-05-30 12:00:00         1  \n",
       "1         2041.861601 2024-05-30 12:09:07 2024-05-30 12:00:00         1  \n",
       "2          814.234289 2024-05-30 12:09:07 2024-05-30 12:00:00         1  \n",
       "3         1893.557563 2024-05-30 12:09:07 2024-05-30 12:00:00         1  \n",
       "4         1999.877908 2024-05-30 12:09:07 2024-05-30 12:00:00         1  "
      ]
     },
     "metadata": {},
     "output_type": "display_data"
    }
   ],
   "source": [
    "display(Markdown(f'**Show the number of entries in the pool data and start/end dates. Display top 5 rows of the dataframe.**'))\n",
    "# Display the first few rows and show number of transactions with respective operation time window\n",
    "ev.display_df_info(pool_df, 'timestamp_date')"
   ]
  },
  {
   "cell_type": "code",
   "execution_count": 9,
   "id": "4fb309ed-7409-48cb-b3d2-5ec42ad0d37d",
   "metadata": {},
   "outputs": [],
   "source": [
    "# Check that real trading data is within pool time bounds\n",
    "min_pool_date = pool_df['timestamp_date'].min()\n",
    "max_pool_date = pool_df['timestamp_date'].max()\n",
    "for i, df in enumerate(strat_dfs):\n",
    "    strat_min_date = df['timestamp_date'].min()\n",
    "    if strat_min_date < min_pool_date:\n",
    "        print('Strategy #{} earliest transaction date ({}) is outside of pool data time window (starts: {})\\n'.format(i+1,\n",
    "                                                                                                             strat_min_date,\n",
    "                                                                                                            min_pool_date))\n",
    "    strat_max_date = df['timestamp_date'].max()\n",
    "    if strat_max_date > max_pool_date:\n",
    "        print('Strategy #{} latest transaction date ({}) is outside of pool data time window (ends: {})\\n'.format(i+1,\n",
    "                                                                                                             strat_max_date,\n",
    "                                                                                                            max_pool_date))"
   ]
  },
  {
   "cell_type": "markdown",
   "id": "be0d3092-d5b3-4f97-97b8-d959b1bc2fb7",
   "metadata": {},
   "source": [
    "If anything gets printed above, this means that strategy data is out of bounds of dates from pool data.  "
   ]
  },
  {
   "cell_type": "markdown",
   "id": "ae275130-e5e4-49c9-94db-d8e2880d6b0e",
   "metadata": {},
   "source": [
    "<b>5. Filter pool data and extract transactions for the same time period as each strategy.</b><br>\n",
    "\n",
    "In this part the pool data is filtered to match the time period of each strategy and the resulting dataset is written into a .csv file.  <br>\n",
    "<i>The format for the name of a new file is 'matched_strat-{strategy_file_name_here}_pool-{pool_file_name_here}.csv'</i><br><br>\n",
    "<b>The filtered pool data for each strategy is written in the 'Data' sheet of a template model spreadsheet file. User needs to make sure the fields in the model sheets are updated before proceeding.</b><br>\n",
    "<i>The format for the name of a new model spreadsheet is 'predictions-{strategy_file_name_here}_pool-{pool_file_name_here}.xlsx'</i><br>"
   ]
  },
  {
   "cell_type": "code",
   "execution_count": 10,
   "id": "a85e2a86-511a-4a45-89fe-02d8d81d2006",
   "metadata": {},
   "outputs": [],
   "source": [
    "# Filter transactions by raindex trading time window \n",
    "pool_filename_wo_ext = utils.remove_extension(pool_filename)\n",
    "strategy_filenames_wo_ext = [utils.remove_extension(strat_name) for strat_name in strategy_filenames]\n",
    "prediction_filenames = []\n",
    "write_files = True\n",
    "for i, df in enumerate(strat_dfs):\n",
    "    matched_pool_df = utils.filter_by_timestamp_range(df, pool_df, 'timestamp_date', 'timestamp_date')\n",
    "    # Write into csv file to be used in the model spreadsheet\n",
    "    matched_csv_name = 'matched_strat-{}_pool-{}.csv'.format(strategy_filenames_wo_ext[i], pool_filename_wo_ext)\n",
    "    if write_files:\n",
    "        matched_pool_df.to_csv(utils.get_data_path(matched_csv_name, 'trade'), index=False)\n",
    "    # These transactions need to be used in the model to compare predictions vs actual\n",
    "    # Create a copy of model template and write filtered data into model file\n",
    "    model_name = 'predictions-strat_{}_pool-{}.xlsx'.format(strategy_filenames_wo_ext[i], pool_filename_wo_ext)\n",
    "    if write_files:\n",
    "        utils.fill_template_with_data(matched_pool_df, model_name)\n",
    "    prediction_filenames.append(model_name)"
   ]
  },
  {
   "cell_type": "markdown",
   "id": "c03aaf37-d58d-45d1-bd0e-71d3a6807505",
   "metadata": {},
   "source": [
    "<b>6. Load predictions from the model using the filtered data from above.</b><br>\n"
   ]
  },
  {
   "cell_type": "code",
   "execution_count": 11,
   "id": "ccdb07c4-1e6d-4ef3-852d-23e44bc62222",
   "metadata": {},
   "outputs": [
    {
     "data": {
      "text/markdown": [
       "**Show the mean and median time between transactions in minutes for reference.**"
      ],
      "text/plain": [
       "<IPython.core.display.Markdown object>"
      ]
     },
     "metadata": {},
     "output_type": "display_data"
    },
    {
     "name": "stdout",
     "output_type": "stream",
     "text": [
      "Mean and median trading frequency of explored strategies:\n"
     ]
    },
    {
     "data": {
      "text/html": [
       "<div>\n",
       "<style scoped>\n",
       "    .dataframe tbody tr th:only-of-type {\n",
       "        vertical-align: middle;\n",
       "    }\n",
       "\n",
       "    .dataframe tbody tr th {\n",
       "        vertical-align: top;\n",
       "    }\n",
       "\n",
       "    .dataframe thead th {\n",
       "        text-align: right;\n",
       "    }\n",
       "</style>\n",
       "<table border=\"1\" class=\"dataframe\">\n",
       "  <thead>\n",
       "    <tr style=\"text-align: right;\">\n",
       "      <th></th>\n",
       "      <th>Strategy 1</th>\n",
       "      <th>Strategy 2</th>\n",
       "      <th>Strategy 3</th>\n",
       "      <th>Strategy 4</th>\n",
       "      <th>Strategy 5</th>\n",
       "      <th>Strategy 6</th>\n",
       "      <th>Strategy 7</th>\n",
       "      <th>Strategy 8</th>\n",
       "      <th>Strategy 9</th>\n",
       "    </tr>\n",
       "  </thead>\n",
       "  <tbody>\n",
       "    <tr>\n",
       "      <th>mean</th>\n",
       "      <td>868.371429</td>\n",
       "      <td>187.837719</td>\n",
       "      <td>79.065359</td>\n",
       "      <td>85.089552</td>\n",
       "      <td>399.649007</td>\n",
       "      <td>80.152174</td>\n",
       "      <td>91.778169</td>\n",
       "      <td>79.148997</td>\n",
       "      <td>212.990698</td>\n",
       "    </tr>\n",
       "    <tr>\n",
       "      <th>median</th>\n",
       "      <td>164.000000</td>\n",
       "      <td>68.500000</td>\n",
       "      <td>7.000000</td>\n",
       "      <td>49.500000</td>\n",
       "      <td>63.000000</td>\n",
       "      <td>11.000000</td>\n",
       "      <td>21.500000</td>\n",
       "      <td>35.000000</td>\n",
       "      <td>57.000000</td>\n",
       "    </tr>\n",
       "  </tbody>\n",
       "</table>\n",
       "</div>"
      ],
      "text/plain": [
       "        Strategy 1  Strategy 2  Strategy 3  Strategy 4  Strategy 5  \\\n",
       "mean    868.371429  187.837719   79.065359   85.089552  399.649007   \n",
       "median  164.000000   68.500000    7.000000   49.500000   63.000000   \n",
       "\n",
       "        Strategy 6  Strategy 7  Strategy 8  Strategy 9  \n",
       "mean     80.152174   91.778169   79.148997  212.990698  \n",
       "median   11.000000   21.500000   35.000000   57.000000  "
      ]
     },
     "metadata": {},
     "output_type": "display_data"
    }
   ],
   "source": [
    "# Names of the spreadsheet model files that use historical pool data filtered by date in above steps\n",
    "# Add all the file names that contain model data\n",
    "# prediction_filenames = [] # Uncomment and edit this line if file names need to be changed from automatically assigned values\n",
    "# If do not need to compare, write an empty string '' in the place of strategy model name\n",
    "# The number and order of entries needs to be matched to the strategy names provided in the beginning of this analysis   \n",
    "strat_frequencies = strategy_stats_df.loc['mean':'median'].copy()\n",
    "strat_frequencies = strat_frequencies[strat_frequencies.columns[:-2]]\n",
    "\n",
    "display(Markdown(f'**Show the mean and median time between transactions in minutes for reference.**'))\n",
    "print('Mean and median trading frequency of explored strategies:')\n",
    "display(strat_frequencies)"
   ]
  },
  {
   "cell_type": "markdown",
   "id": "190744e6-9f7b-47a0-952c-d170d2ad4aa9",
   "metadata": {},
   "source": [
    "<b> Find the closest sheet in the model spreadsheet that matches the mean/median time between transactions. </b>\n",
    "<br>If the time of strategy data is more than the chosen threshold, then the strategy will not be considered for the comparison. \n",
    "<br><i> Set 'time_threshold' to the maximum time spread between transactions. (e.g. time_threshold = 120)</i>"
   ]
  },
  {
   "cell_type": "code",
   "execution_count": 12,
   "id": "3bc113cb-813d-4806-96cd-d9c9a5763390",
   "metadata": {},
   "outputs": [
    {
     "data": {
      "text/markdown": [
       "**Print the chosen model sheet for each strategy using mean/median.**"
      ],
      "text/plain": [
       "<IPython.core.display.Markdown object>"
      ]
     },
     "metadata": {},
     "output_type": "display_data"
    },
    {
     "data": {
      "text/markdown": [
       "*If strategy mean/median is above time_threshold, then empty sheet is chosen (no comparison).*"
      ],
      "text/plain": [
       "<IPython.core.display.Markdown object>"
      ]
     },
     "metadata": {},
     "output_type": "display_data"
    },
    {
     "name": "stdout",
     "output_type": "stream",
     "text": [
      "Mean model sheets:\n",
      "['', '', '90M', '90M', '', '90M', '90M', '90M', '']\n",
      "Median model sheets:\n",
      "['', '60M', '15M', '60M', '60M', '15M', '15M', '30M', '60M']\n"
     ]
    }
   ],
   "source": [
    "median_freq_sheet_name = []\n",
    "mean_freq_sheet_name = []\n",
    "time_threshold = 120\n",
    "for col in strat_frequencies.columns:\n",
    "    if strat_frequencies.loc['mean', col] <= time_threshold:\n",
    "        mean_freq_sheet_name.append(utils.get_closest_sheet_name(strat_frequencies.loc['mean', col]))\n",
    "    else:\n",
    "        mean_freq_sheet_name.append('')\n",
    "        \n",
    "    if strat_frequencies.loc['median', col] <= time_threshold:\n",
    "        median_freq_sheet_name.append(utils.get_closest_sheet_name(strat_frequencies.loc['median', col]))\n",
    "    else:\n",
    "        median_freq_sheet_name.append('')\n",
    "\n",
    "display(Markdown('**Print the chosen model sheet for each strategy using mean/median.**'))\n",
    "display(Markdown('*If strategy mean/median is above time_threshold, then empty sheet is chosen (no comparison).*'))\n",
    "print('Mean model sheets:')\n",
    "print(mean_freq_sheet_name)\n",
    "print('Median model sheets:')\n",
    "print(median_freq_sheet_name)"
   ]
  },
  {
   "cell_type": "markdown",
   "id": "aca3655e-3f5e-4dc9-9fb6-ab88175744b4",
   "metadata": {},
   "source": [
    "<b>Import model prediction from the chosen time sheet for each strategy.</b>\n",
    "<br>Both mean and median prediction sheets are chosen separately for further analysis."
   ]
  },
  {
   "cell_type": "code",
   "execution_count": 13,
   "id": "09278e1b-9d9d-4b83-90f0-e5adb25c71f3",
   "metadata": {},
   "outputs": [],
   "source": [
    "prediction_mean_dfs = [] \n",
    "prediction_median_dfs = [] \n",
    "# Read data from the model into dataframe\n",
    "for i, file_name in enumerate(prediction_filenames):\n",
    "    pool_mean_pred_df = None\n",
    "    if mean_freq_sheet_name[i] != '':\n",
    "        pool_mean_pred_df = read_model_predictions(file_path=utils.get_data_path(file_name, 'model'), sheet_name=mean_freq_sheet_name[i])\n",
    "        # Calculate trade counts from resets\n",
    "        utils.add_reset_trade_count(pool_mean_pred_df)        \n",
    "    pool_median_pred_df = None\n",
    "    if median_freq_sheet_name[i] != '':\n",
    "        pool_median_pred_df = read_model_predictions(file_path=utils.get_data_path(file_name, 'model'), sheet_name=median_freq_sheet_name[i])\n",
    "        # Calculate trade counts from resets\n",
    "        utils.add_reset_trade_count(pool_median_pred_df)        \n",
    "    prediction_mean_dfs.append(pool_mean_pred_df)\n",
    "    prediction_median_dfs.append(pool_median_pred_df)"
   ]
  },
  {
   "cell_type": "markdown",
   "id": "518d97aa-49f8-4470-b5da-896971d2b668",
   "metadata": {},
   "source": [
    "Some useful functions for data comparison."
   ]
  },
  {
   "cell_type": "code",
   "execution_count": 14,
   "id": "56a9d8d0-c44c-40b6-b761-dd34da120cc4",
   "metadata": {},
   "outputs": [],
   "source": [
    "def evaluate_hypothesis_test(index, actual_series, predicted_series, label, alpha=0.05):\n",
    "    \"\"\"Perform statistical hypothesis tests (t-test and Mann–Whitney U test)\n",
    "        and format the result for a specific strategy and prediction label.\"\"\"\n",
    "    \"\"\"Parameters:\n",
    "        index (int): Index of the strategy.\n",
    "        actual_series (pd.Series): actual trade count values.\n",
    "        predicted_series (pd.Series): predicted trade count values.\n",
    "        label (str): 'mean' or 'median' to identify test type.\n",
    "        alpha (float): significance level for the tests.\"\"\"\n",
    "    \"\"\"Returns:(pd.DataFrame): dataframe with p-values and significance flags.\"\"\"\n",
    "    hypothesis_eval = ev.perform_hypothesis_tests(actual_series, predicted_series, alpha=alpha)\n",
    "    return pd.DataFrame.from_dict(hypothesis_eval, orient='index', columns=[f'strat_{index+1}({label})'])\n",
    "\n",
    "def plot_strat_predicted_trades_hist(index, actual_df, prediction_df, label, is_mod_reset=False, bin_width=2):\n",
    "    if prediction_df is not None:\n",
    "        actual_reset_col = 'reset_mod' if is_mod_reset else 'reset'\n",
    "        actual_trade_count_col = 'trade_count_mod' if is_mod_reset else 'trade_count'\n",
    "        actual_resets = actual_df[actual_df[actual_reset_col]]\n",
    "        vis.plot_reset_trades_hist(actual_resets[actual_resets[actual_trade_count_col]<max_trade_threshold], \n",
    "                           prediction_df[prediction_df['trade_count']<max_trade_threshold], bin_width=bin_width, \n",
    "                                   title=f'Strategy {index+1} vs predicted ({label})', is_mod_reset=is_mod_reset)\n",
    "\n",
    "def evaluate_prediction_error(index\n",
    "                              , actual_df\n",
    "                              , predicted_df\n",
    "                              , label\n",
    "                              , reset_count_tolerance\n",
    "                              , plot_trade_count=True\n",
    "                              , plot_error_dist=True\n",
    "                              , is_mod_reset=False):\n",
    "    \"\"\"Evaluate prediction error for a strategy and optionally plot results.\"\"\"\n",
    "    \"\"\"Parameters:\n",
    "        index (int): index of the strategy.\n",
    "        actual_df (pd.DataFrame): dataframe with actual values.\n",
    "        predicted_df (pd.DataFrame): dataframe with predicted values.\n",
    "        label (str): label to use for columns and plot titles (e.g., 'mean', 'median').\n",
    "        plot_trade_count (bool): whether to plot actual vs predicted.\n",
    "        plot_error_dist (bool): whether to plot error distribution.\n",
    "        is_mod_reset (bool): whether to use modified reset logic columns\"\"\"\n",
    "    \"\"\"Returns: (pd.DataFrame): dataframe with MAE, RMSE, MAPE for the given strategy.\"\"\"\n",
    "    \n",
    "    actual_reset_col = 'reset_mod' if is_mod_reset else 'reset'\n",
    "    actual_trade_count_col = 'trade_count_mod' if is_mod_reset else 'trade_count'\n",
    "    \n",
    "    actual = actual_df.loc[actual_df[actual_reset_col]]\n",
    "    predicted = predicted_df.loc[predicted_df['reset']]\n",
    "\n",
    "    if abs(len(actual) - len(predicted)) > reset_count_tolerance:\n",
    "        return None  # skip if not close enough in reset count\n",
    "\n",
    "    min_resets = min(len(actual), len(predicted))\n",
    "\n",
    "    actual_resets = actual.copy().sort_values(by=actual_trade_count_col, ascending=True)[:min_resets]\n",
    "    predicted_resets = predicted.copy().sort_values(by='trade_count', ascending=True)[:min_resets]\n",
    "\n",
    "    # Calculate error metrics\n",
    "    prediction_error = ev.calculate_prediction_error(actual_resets, predicted_resets, actual_trade_count_col, 'trade_count')\n",
    "    error_df = pd.DataFrame.from_dict(prediction_error, orient='index', columns=[f'strat_{index+1}({label})'])\n",
    "\n",
    "    # Visualize\n",
    "    if plot_trade_count:\n",
    "        vis.plot_predictions_vs_actual(\n",
    "            actual_resets, predicted_resets,\n",
    "            actual_trade_count_col, 'trade_count',\n",
    "            f'Strat_{index+1}: Actual vs Predicted ({label}) transactions')\n",
    "    if plot_error_dist:\n",
    "        vis.plot_error_distribution(\n",
    "            actual_resets, predicted_resets,\n",
    "            actual_trade_count_col, 'trade_count',\n",
    "            title=f'Strat_{index+1}: Prediction ({label}) error distribution')\n",
    "\n",
    "    return error_df"
   ]
  },
  {
   "cell_type": "markdown",
   "id": "b5d1adcc-a4eb-4bd2-bf83-5cd1479d68f7",
   "metadata": {},
   "source": [
    "<b>7. Compare actual vs predicted number of trades between resets.</b>"
   ]
  },
  {
   "cell_type": "markdown",
   "id": "7be2f3a6-6da8-427d-a2af-1564c4425d29",
   "metadata": {},
   "source": [
    "Visualize the actual vs predicted number of trades between resets for each strategy using first mean trading time, then median trading times. \n",
    "<br>The histogram shows the distribution of actual and predicted trades overlaid. \n",
    "<br><br><i> Only strategies with valid sheet assignment in the model are compared.</i>  "
   ]
  },
  {
   "cell_type": "code",
   "execution_count": 15,
   "id": "53973a77-e901-42cb-8a7e-c093fe29aa25",
   "metadata": {},
   "outputs": [
    {
     "data": {
      "text/markdown": [
       "**Histograms of strategy actual data vs predicted (by mean trade frequency) trade count between resets.**"
      ],
      "text/plain": [
       "<IPython.core.display.Markdown object>"
      ]
     },
     "metadata": {},
     "output_type": "display_data"
    },
    {
     "data": {
      "image/png": "[encoded data removed]",
      "text/plain": [
       "<Figure size 720x360 with 1 Axes>"
      ]
     },
     "metadata": {
      "needs_background": "light"
     },
     "output_type": "display_data"
    },
    {
     "data": {
      "image/png": "[encoded data removed]",
      "text/plain": [
       "<Figure size 720x360 with 1 Axes>"
      ]
     },
     "metadata": {
      "needs_background": "light"
     },
     "output_type": "display_data"
    },
    {
     "data": {
      "image/png": "[encoded data removed]",
      "text/plain": [
       "<Figure size 720x360 with 1 Axes>"
      ]
     },
     "metadata": {
      "needs_background": "light"
     },
     "output_type": "display_data"
    },
    {
     "data": {
      "image/png": "[encoded data removed]",
      "text/plain": [
       "<Figure size 720x360 with 1 Axes>"
      ]
     },
     "metadata": {
      "needs_background": "light"
     },
     "output_type": "display_data"
    },
    {
     "data": {
      "image/png": "[encoded data removed]",
      "text/plain": [
       "<Figure size 720x360 with 1 Axes>"
      ]
     },
     "metadata": {
      "needs_background": "light"
     },
     "output_type": "display_data"
    }
   ],
   "source": [
    "# Plot comparison of the actual vs predicted number of transactions between resets\n",
    "max_trade_threshold = 1000000 # Optional filter for the maximum number or trades\n",
    "                                # Useful to eliminate outliers in the plot for visual comparison\n",
    "                                # Set at some large number if filtering is not required \n",
    "\n",
    "display(Markdown(\"**Histograms of strategy actual data vs predicted (by mean trade frequency) trade count between resets.**\"))\n",
    "# Change bin_width to change grouping in histogram\n",
    "for index in range(len(strat_dfs)):\n",
    "    plot_strat_predicted_trades_hist(index, strat_dfs[index], prediction_mean_dfs[index], 'mean', is_mod_reset=True)"
   ]
  },
  {
   "cell_type": "code",
   "execution_count": 16,
   "id": "3b848b39-cf29-4ca8-8d4c-2b9bed93b9cd",
   "metadata": {},
   "outputs": [
    {
     "data": {
      "text/markdown": [
       "**Histograms of strategy actual data vs predicted (by median trade frequency) trade count between resets.**"
      ],
      "text/plain": [
       "<IPython.core.display.Markdown object>"
      ]
     },
     "metadata": {},
     "output_type": "display_data"
    },
    {
     "data": {
      "image/png": "[encoded data removed]",
      "text/plain": [
       "<Figure size 720x360 with 1 Axes>"
      ]
     },
     "metadata": {
      "needs_background": "light"
     },
     "output_type": "display_data"
    },
    {
     "data": {
      "image/png": "[encoded data removed]",
      "text/plain": [
       "<Figure size 720x360 with 1 Axes>"
      ]
     },
     "metadata": {
      "needs_background": "light"
     },
     "output_type": "display_data"
    },
    {
     "data": {
      "image/png": "[encoded data removed]",
      "text/plain": [
       "<Figure size 720x360 with 1 Axes>"
      ]
     },
     "metadata": {
      "needs_background": "light"
     },
     "output_type": "display_data"
    },
    {
     "data": {
      "image/png": "[encoded data removed]",
      "text/plain": [
       "<Figure size 720x360 with 1 Axes>"
      ]
     },
     "metadata": {
      "needs_background": "light"
     },
     "output_type": "display_data"
    },
    {
     "data": {
      "image/png": "[encoded data removed]",
      "text/plain": [
       "<Figure size 720x360 with 1 Axes>"
      ]
     },
     "metadata": {
      "needs_background": "light"
     },
     "output_type": "display_data"
    },
    {
     "data": {
      "image/png": "[encoded data removed]",
      "text/plain": [
       "<Figure size 720x360 with 1 Axes>"
      ]
     },
     "metadata": {
      "needs_background": "light"
     },
     "output_type": "display_data"
    },
    {
     "data": {
      "image/png": "[encoded data removed]",
      "text/plain": [
       "<Figure size 720x360 with 1 Axes>"
      ]
     },
     "metadata": {
      "needs_background": "light"
     },
     "output_type": "display_data"
    },
    {
     "data": {
      "image/png": "[encoded data removed]",
      "text/plain": [
       "<Figure size 720x360 with 1 Axes>"
      ]
     },
     "metadata": {
      "needs_background": "light"
     },
     "output_type": "display_data"
    }
   ],
   "source": [
    "display(Markdown(\"**Histograms of strategy actual data vs predicted (by median trade frequency) trade count between resets.**\"))\n",
    "for index in range(len(strat_dfs)):\n",
    "    if prediction_median_dfs[index] is not None:\n",
    "        plot_strat_predicted_trades_hist(index, strat_dfs[index], prediction_median_dfs[index], 'median', is_mod_reset=True)        "
   ]
  },
  {
   "cell_type": "markdown",
   "id": "98d32816-165c-4b20-8883-c65d79deb682",
   "metadata": {},
   "source": [
    "<b> Generate comparison for trades between resets statistics. </b>\n",
    "<br>All the comparisons are combined in a matrix. Where each column represents statistical metrics from either actiual strategy data named as <i>'strat_{strategy number here}'</i> or predicted data using mean or median time for model sheet choice named as <i>'pred_mean_{strategy number here}'</i> or <i>'pred_median_{strategy number here}'</i>"
   ]
  },
  {
   "cell_type": "code",
   "execution_count": 17,
   "id": "9f5de690-7a21-4d8e-822f-e90329609424",
   "metadata": {},
   "outputs": [
    {
     "data": {
      "text/markdown": [
       "**Aggregated statistical comparison of actual data vs predicted trade count between resets.**"
      ],
      "text/plain": [
       "<IPython.core.display.Markdown object>"
      ]
     },
     "metadata": {},
     "output_type": "display_data"
    },
    {
     "data": {
      "text/html": [
       "<div>\n",
       "<style scoped>\n",
       "    .dataframe tbody tr th:only-of-type {\n",
       "        vertical-align: middle;\n",
       "    }\n",
       "\n",
       "    .dataframe tbody tr th {\n",
       "        vertical-align: top;\n",
       "    }\n",
       "\n",
       "    .dataframe thead th {\n",
       "        text-align: right;\n",
       "    }\n",
       "</style>\n",
       "<table border=\"1\" class=\"dataframe\">\n",
       "  <thead>\n",
       "    <tr style=\"text-align: right;\">\n",
       "      <th></th>\n",
       "      <th>strat_2</th>\n",
       "      <th>pred_median_2</th>\n",
       "      <th>strat_3</th>\n",
       "      <th>pred_mean_3</th>\n",
       "      <th>pred_median_3</th>\n",
       "      <th>strat_4</th>\n",
       "      <th>pred_mean_4</th>\n",
       "      <th>pred_median_4</th>\n",
       "      <th>strat_5</th>\n",
       "      <th>pred_median_5</th>\n",
       "      <th>...</th>\n",
       "      <th>pred_mean_6</th>\n",
       "      <th>pred_median_6</th>\n",
       "      <th>strat_7</th>\n",
       "      <th>pred_mean_7</th>\n",
       "      <th>pred_median_7</th>\n",
       "      <th>strat_8</th>\n",
       "      <th>pred_mean_8</th>\n",
       "      <th>pred_median_8</th>\n",
       "      <th>strat_9</th>\n",
       "      <th>pred_median_9</th>\n",
       "    </tr>\n",
       "  </thead>\n",
       "  <tbody>\n",
       "    <tr>\n",
       "      <th>mean</th>\n",
       "      <td>16.090909</td>\n",
       "      <td>52.777778</td>\n",
       "      <td>51.200000</td>\n",
       "      <td>14.666667</td>\n",
       "      <td>55.500000</td>\n",
       "      <td>39.400000</td>\n",
       "      <td>21.400000</td>\n",
       "      <td>24.166667</td>\n",
       "      <td>10.818182</td>\n",
       "      <td>28.600000</td>\n",
       "      <td>...</td>\n",
       "      <td>31.666667</td>\n",
       "      <td>86.250000</td>\n",
       "      <td>66.000000</td>\n",
       "      <td>21.400000</td>\n",
       "      <td>57.285714</td>\n",
       "      <td>14.090909</td>\n",
       "      <td>22.000000</td>\n",
       "      <td>35.500000</td>\n",
       "      <td>20.200000</td>\n",
       "      <td>56.500000</td>\n",
       "    </tr>\n",
       "    <tr>\n",
       "      <th>median</th>\n",
       "      <td>5.000000</td>\n",
       "      <td>42.000000</td>\n",
       "      <td>45.000000</td>\n",
       "      <td>13.000000</td>\n",
       "      <td>55.500000</td>\n",
       "      <td>41.000000</td>\n",
       "      <td>12.000000</td>\n",
       "      <td>20.000000</td>\n",
       "      <td>4.000000</td>\n",
       "      <td>23.000000</td>\n",
       "      <td>...</td>\n",
       "      <td>16.500000</td>\n",
       "      <td>67.500000</td>\n",
       "      <td>62.000000</td>\n",
       "      <td>12.000000</td>\n",
       "      <td>28.000000</td>\n",
       "      <td>9.000000</td>\n",
       "      <td>22.000000</td>\n",
       "      <td>35.500000</td>\n",
       "      <td>13.000000</td>\n",
       "      <td>56.500000</td>\n",
       "    </tr>\n",
       "    <tr>\n",
       "      <th>std</th>\n",
       "      <td>17.207292</td>\n",
       "      <td>37.415831</td>\n",
       "      <td>31.924912</td>\n",
       "      <td>9.609024</td>\n",
       "      <td>53.033009</td>\n",
       "      <td>17.672012</td>\n",
       "      <td>21.489532</td>\n",
       "      <td>18.648503</td>\n",
       "      <td>11.250051</td>\n",
       "      <td>18.514859</td>\n",
       "      <td>...</td>\n",
       "      <td>37.987717</td>\n",
       "      <td>59.586072</td>\n",
       "      <td>29.206164</td>\n",
       "      <td>21.489532</td>\n",
       "      <td>49.724958</td>\n",
       "      <td>13.337770</td>\n",
       "      <td>12.727922</td>\n",
       "      <td>36.062446</td>\n",
       "      <td>18.552029</td>\n",
       "      <td>44.547727</td>\n",
       "    </tr>\n",
       "    <tr>\n",
       "      <th>cv</th>\n",
       "      <td>1.069380</td>\n",
       "      <td>0.708932</td>\n",
       "      <td>0.623533</td>\n",
       "      <td>0.655161</td>\n",
       "      <td>0.955550</td>\n",
       "      <td>0.448528</td>\n",
       "      <td>1.004184</td>\n",
       "      <td>0.771662</td>\n",
       "      <td>1.039921</td>\n",
       "      <td>0.647373</td>\n",
       "      <td>...</td>\n",
       "      <td>1.199612</td>\n",
       "      <td>0.690853</td>\n",
       "      <td>0.442518</td>\n",
       "      <td>1.004184</td>\n",
       "      <td>0.868017</td>\n",
       "      <td>0.946551</td>\n",
       "      <td>0.578542</td>\n",
       "      <td>1.015844</td>\n",
       "      <td>0.918417</td>\n",
       "      <td>0.788455</td>\n",
       "    </tr>\n",
       "    <tr>\n",
       "      <th>mad</th>\n",
       "      <td>3.000000</td>\n",
       "      <td>9.000000</td>\n",
       "      <td>26.000000</td>\n",
       "      <td>7.000000</td>\n",
       "      <td>37.500000</td>\n",
       "      <td>16.000000</td>\n",
       "      <td>9.000000</td>\n",
       "      <td>13.000000</td>\n",
       "      <td>2.000000</td>\n",
       "      <td>4.000000</td>\n",
       "      <td>...</td>\n",
       "      <td>8.000000</td>\n",
       "      <td>33.500000</td>\n",
       "      <td>23.000000</td>\n",
       "      <td>9.000000</td>\n",
       "      <td>19.000000</td>\n",
       "      <td>7.000000</td>\n",
       "      <td>9.000000</td>\n",
       "      <td>25.500000</td>\n",
       "      <td>6.500000</td>\n",
       "      <td>31.500000</td>\n",
       "    </tr>\n",
       "    <tr>\n",
       "      <th>min</th>\n",
       "      <td>2.000000</td>\n",
       "      <td>19.000000</td>\n",
       "      <td>10.000000</td>\n",
       "      <td>6.000000</td>\n",
       "      <td>18.000000</td>\n",
       "      <td>20.000000</td>\n",
       "      <td>3.000000</td>\n",
       "      <td>4.000000</td>\n",
       "      <td>2.000000</td>\n",
       "      <td>15.000000</td>\n",
       "      <td>...</td>\n",
       "      <td>7.000000</td>\n",
       "      <td>25.000000</td>\n",
       "      <td>39.000000</td>\n",
       "      <td>3.000000</td>\n",
       "      <td>9.000000</td>\n",
       "      <td>2.000000</td>\n",
       "      <td>13.000000</td>\n",
       "      <td>10.000000</td>\n",
       "      <td>2.000000</td>\n",
       "      <td>25.000000</td>\n",
       "    </tr>\n",
       "    <tr>\n",
       "      <th>max</th>\n",
       "      <td>45.000000</td>\n",
       "      <td>137.000000</td>\n",
       "      <td>93.000000</td>\n",
       "      <td>25.000000</td>\n",
       "      <td>93.000000</td>\n",
       "      <td>64.000000</td>\n",
       "      <td>56.000000</td>\n",
       "      <td>49.000000</td>\n",
       "      <td>31.000000</td>\n",
       "      <td>61.000000</td>\n",
       "      <td>...</td>\n",
       "      <td>107.000000</td>\n",
       "      <td>208.000000</td>\n",
       "      <td>97.000000</td>\n",
       "      <td>56.000000</td>\n",
       "      <td>131.000000</td>\n",
       "      <td>40.000000</td>\n",
       "      <td>31.000000</td>\n",
       "      <td>61.000000</td>\n",
       "      <td>60.000000</td>\n",
       "      <td>88.000000</td>\n",
       "    </tr>\n",
       "    <tr>\n",
       "      <th>iqr</th>\n",
       "      <td>24.000000</td>\n",
       "      <td>16.000000</td>\n",
       "      <td>34.000000</td>\n",
       "      <td>9.500000</td>\n",
       "      <td>37.500000</td>\n",
       "      <td>22.000000</td>\n",
       "      <td>20.000000</td>\n",
       "      <td>28.500000</td>\n",
       "      <td>13.000000</td>\n",
       "      <td>6.000000</td>\n",
       "      <td>...</td>\n",
       "      <td>17.500000</td>\n",
       "      <td>72.500000</td>\n",
       "      <td>29.000000</td>\n",
       "      <td>20.000000</td>\n",
       "      <td>73.500000</td>\n",
       "      <td>15.750000</td>\n",
       "      <td>9.000000</td>\n",
       "      <td>25.500000</td>\n",
       "      <td>18.250000</td>\n",
       "      <td>31.500000</td>\n",
       "    </tr>\n",
       "    <tr>\n",
       "      <th>skew</th>\n",
       "      <td>0.756337</td>\n",
       "      <td>1.416232</td>\n",
       "      <td>0.066668</td>\n",
       "      <td>0.309058</td>\n",
       "      <td>0.000000</td>\n",
       "      <td>0.255385</td>\n",
       "      <td>0.908134</td>\n",
       "      <td>0.262541</td>\n",
       "      <td>0.992528</td>\n",
       "      <td>1.338323</td>\n",
       "      <td>...</td>\n",
       "      <td>1.580047</td>\n",
       "      <td>1.055727</td>\n",
       "      <td>0.246887</td>\n",
       "      <td>0.908134</td>\n",
       "      <td>0.514081</td>\n",
       "      <td>0.841979</td>\n",
       "      <td>0.000000</td>\n",
       "      <td>0.000000</td>\n",
       "      <td>1.159830</td>\n",
       "      <td>0.000000</td>\n",
       "    </tr>\n",
       "    <tr>\n",
       "      <th>kurtosis</th>\n",
       "      <td>-1.076817</td>\n",
       "      <td>0.900702</td>\n",
       "      <td>-1.155875</td>\n",
       "      <td>-1.500000</td>\n",
       "      <td>-2.000000</td>\n",
       "      <td>-1.224267</td>\n",
       "      <td>-0.670438</td>\n",
       "      <td>-1.575712</td>\n",
       "      <td>-0.845244</td>\n",
       "      <td>0.047169</td>\n",
       "      <td>...</td>\n",
       "      <td>0.792163</td>\n",
       "      <td>0.140322</td>\n",
       "      <td>-1.500000</td>\n",
       "      <td>-0.670438</td>\n",
       "      <td>-1.406591</td>\n",
       "      <td>-0.761373</td>\n",
       "      <td>-2.000000</td>\n",
       "      <td>-2.000000</td>\n",
       "      <td>0.105962</td>\n",
       "      <td>-2.000000</td>\n",
       "    </tr>\n",
       "    <tr>\n",
       "      <th>95% CI lower</th>\n",
       "      <td>4.530893</td>\n",
       "      <td>24.017424</td>\n",
       "      <td>11.559986</td>\n",
       "      <td>-9.203471</td>\n",
       "      <td>-420.982678</td>\n",
       "      <td>17.457299</td>\n",
       "      <td>-5.282779</td>\n",
       "      <td>4.596263</td>\n",
       "      <td>3.260295</td>\n",
       "      <td>5.610766</td>\n",
       "      <td>...</td>\n",
       "      <td>-8.198998</td>\n",
       "      <td>36.434797</td>\n",
       "      <td>-6.552133</td>\n",
       "      <td>-5.282779</td>\n",
       "      <td>11.297799</td>\n",
       "      <td>8.177273</td>\n",
       "      <td>-92.355843</td>\n",
       "      <td>-288.508221</td>\n",
       "      <td>6.928678</td>\n",
       "      <td>-343.745449</td>\n",
       "    </tr>\n",
       "    <tr>\n",
       "      <th>95% CI upper</th>\n",
       "      <td>27.650925</td>\n",
       "      <td>81.538132</td>\n",
       "      <td>90.840014</td>\n",
       "      <td>38.536804</td>\n",
       "      <td>531.982678</td>\n",
       "      <td>61.342701</td>\n",
       "      <td>48.082779</td>\n",
       "      <td>43.737070</td>\n",
       "      <td>18.376069</td>\n",
       "      <td>51.589234</td>\n",
       "      <td>...</td>\n",
       "      <td>71.532331</td>\n",
       "      <td>136.065203</td>\n",
       "      <td>138.552133</td>\n",
       "      <td>48.082779</td>\n",
       "      <td>103.273630</td>\n",
       "      <td>20.004545</td>\n",
       "      <td>136.355843</td>\n",
       "      <td>359.508221</td>\n",
       "      <td>33.471322</td>\n",
       "      <td>456.745449</td>\n",
       "    </tr>\n",
       "    <tr>\n",
       "      <th>Number of trades</th>\n",
       "      <td>228.000000</td>\n",
       "      <td>481.000000</td>\n",
       "      <td>306.000000</td>\n",
       "      <td>81.000000</td>\n",
       "      <td>340.000000</td>\n",
       "      <td>268.000000</td>\n",
       "      <td>143.000000</td>\n",
       "      <td>206.000000</td>\n",
       "      <td>151.000000</td>\n",
       "      <td>181.000000</td>\n",
       "      <td>...</td>\n",
       "      <td>227.000000</td>\n",
       "      <td>763.000000</td>\n",
       "      <td>284.000000</td>\n",
       "      <td>149.000000</td>\n",
       "      <td>550.000000</td>\n",
       "      <td>349.000000</td>\n",
       "      <td>82.000000</td>\n",
       "      <td>210.000000</td>\n",
       "      <td>215.000000</td>\n",
       "      <td>224.000000</td>\n",
       "    </tr>\n",
       "    <tr>\n",
       "      <th>Number of resets</th>\n",
       "      <td>11.000000</td>\n",
       "      <td>9.000000</td>\n",
       "      <td>5.000000</td>\n",
       "      <td>3.000000</td>\n",
       "      <td>2.000000</td>\n",
       "      <td>5.000000</td>\n",
       "      <td>5.000000</td>\n",
       "      <td>6.000000</td>\n",
       "      <td>11.000000</td>\n",
       "      <td>5.000000</td>\n",
       "      <td>...</td>\n",
       "      <td>6.000000</td>\n",
       "      <td>8.000000</td>\n",
       "      <td>3.000000</td>\n",
       "      <td>5.000000</td>\n",
       "      <td>7.000000</td>\n",
       "      <td>22.000000</td>\n",
       "      <td>2.000000</td>\n",
       "      <td>2.000000</td>\n",
       "      <td>10.000000</td>\n",
       "      <td>2.000000</td>\n",
       "    </tr>\n",
       "    <tr>\n",
       "      <th>% resets</th>\n",
       "      <td>4.824561</td>\n",
       "      <td>1.871102</td>\n",
       "      <td>1.633987</td>\n",
       "      <td>3.703704</td>\n",
       "      <td>0.588235</td>\n",
       "      <td>1.865672</td>\n",
       "      <td>3.496503</td>\n",
       "      <td>2.912621</td>\n",
       "      <td>7.284768</td>\n",
       "      <td>2.762431</td>\n",
       "      <td>...</td>\n",
       "      <td>2.643172</td>\n",
       "      <td>1.048493</td>\n",
       "      <td>1.056338</td>\n",
       "      <td>3.355705</td>\n",
       "      <td>1.272727</td>\n",
       "      <td>6.303725</td>\n",
       "      <td>2.439024</td>\n",
       "      <td>0.952381</td>\n",
       "      <td>4.651163</td>\n",
       "      <td>0.892857</td>\n",
       "    </tr>\n",
       "  </tbody>\n",
       "</table>\n",
       "<p>15 rows × 21 columns</p>\n",
       "</div>"
      ],
      "text/plain": [
       "                     strat_2  pred_median_2     strat_3  pred_mean_3  \\\n",
       "mean               16.090909      52.777778   51.200000    14.666667   \n",
       "median              5.000000      42.000000   45.000000    13.000000   \n",
       "std                17.207292      37.415831   31.924912     9.609024   \n",
       "cv                  1.069380       0.708932    0.623533     0.655161   \n",
       "mad                 3.000000       9.000000   26.000000     7.000000   \n",
       "min                 2.000000      19.000000   10.000000     6.000000   \n",
       "max                45.000000     137.000000   93.000000    25.000000   \n",
       "iqr                24.000000      16.000000   34.000000     9.500000   \n",
       "skew                0.756337       1.416232    0.066668     0.309058   \n",
       "kurtosis           -1.076817       0.900702   -1.155875    -1.500000   \n",
       "95% CI lower        4.530893      24.017424   11.559986    -9.203471   \n",
       "95% CI upper       27.650925      81.538132   90.840014    38.536804   \n",
       "Number of trades  228.000000     481.000000  306.000000    81.000000   \n",
       "Number of resets   11.000000       9.000000    5.000000     3.000000   \n",
       "% resets            4.824561       1.871102    1.633987     3.703704   \n",
       "\n",
       "                  pred_median_3     strat_4  pred_mean_4  pred_median_4  \\\n",
       "mean                  55.500000   39.400000    21.400000      24.166667   \n",
       "median                55.500000   41.000000    12.000000      20.000000   \n",
       "std                   53.033009   17.672012    21.489532      18.648503   \n",
       "cv                     0.955550    0.448528     1.004184       0.771662   \n",
       "mad                   37.500000   16.000000     9.000000      13.000000   \n",
       "min                   18.000000   20.000000     3.000000       4.000000   \n",
       "max                   93.000000   64.000000    56.000000      49.000000   \n",
       "iqr                   37.500000   22.000000    20.000000      28.500000   \n",
       "skew                   0.000000    0.255385     0.908134       0.262541   \n",
       "kurtosis              -2.000000   -1.224267    -0.670438      -1.575712   \n",
       "95% CI lower        -420.982678   17.457299    -5.282779       4.596263   \n",
       "95% CI upper         531.982678   61.342701    48.082779      43.737070   \n",
       "Number of trades     340.000000  268.000000   143.000000     206.000000   \n",
       "Number of resets       2.000000    5.000000     5.000000       6.000000   \n",
       "% resets               0.588235    1.865672     3.496503       2.912621   \n",
       "\n",
       "                     strat_5  pred_median_5  ...  pred_mean_6  pred_median_6  \\\n",
       "mean               10.818182      28.600000  ...    31.666667      86.250000   \n",
       "median              4.000000      23.000000  ...    16.500000      67.500000   \n",
       "std                11.250051      18.514859  ...    37.987717      59.586072   \n",
       "cv                  1.039921       0.647373  ...     1.199612       0.690853   \n",
       "mad                 2.000000       4.000000  ...     8.000000      33.500000   \n",
       "min                 2.000000      15.000000  ...     7.000000      25.000000   \n",
       "max                31.000000      61.000000  ...   107.000000     208.000000   \n",
       "iqr                13.000000       6.000000  ...    17.500000      72.500000   \n",
       "skew                0.992528       1.338323  ...     1.580047       1.055727   \n",
       "kurtosis           -0.845244       0.047169  ...     0.792163       0.140322   \n",
       "95% CI lower        3.260295       5.610766  ...    -8.198998      36.434797   \n",
       "95% CI upper       18.376069      51.589234  ...    71.532331     136.065203   \n",
       "Number of trades  151.000000     181.000000  ...   227.000000     763.000000   \n",
       "Number of resets   11.000000       5.000000  ...     6.000000       8.000000   \n",
       "% resets            7.284768       2.762431  ...     2.643172       1.048493   \n",
       "\n",
       "                     strat_7  pred_mean_7  pred_median_7     strat_8  \\\n",
       "mean               66.000000    21.400000      57.285714   14.090909   \n",
       "median             62.000000    12.000000      28.000000    9.000000   \n",
       "std                29.206164    21.489532      49.724958   13.337770   \n",
       "cv                  0.442518     1.004184       0.868017    0.946551   \n",
       "mad                23.000000     9.000000      19.000000    7.000000   \n",
       "min                39.000000     3.000000       9.000000    2.000000   \n",
       "max                97.000000    56.000000     131.000000   40.000000   \n",
       "iqr                29.000000    20.000000      73.500000   15.750000   \n",
       "skew                0.246887     0.908134       0.514081    0.841979   \n",
       "kurtosis           -1.500000    -0.670438      -1.406591   -0.761373   \n",
       "95% CI lower       -6.552133    -5.282779      11.297799    8.177273   \n",
       "95% CI upper      138.552133    48.082779     103.273630   20.004545   \n",
       "Number of trades  284.000000   149.000000     550.000000  349.000000   \n",
       "Number of resets    3.000000     5.000000       7.000000   22.000000   \n",
       "% resets            1.056338     3.355705       1.272727    6.303725   \n",
       "\n",
       "                  pred_mean_8  pred_median_8     strat_9  pred_median_9  \n",
       "mean                22.000000      35.500000   20.200000      56.500000  \n",
       "median              22.000000      35.500000   13.000000      56.500000  \n",
       "std                 12.727922      36.062446   18.552029      44.547727  \n",
       "cv                   0.578542       1.015844    0.918417       0.788455  \n",
       "mad                  9.000000      25.500000    6.500000      31.500000  \n",
       "min                 13.000000      10.000000    2.000000      25.000000  \n",
       "max                 31.000000      61.000000   60.000000      88.000000  \n",
       "iqr                  9.000000      25.500000   18.250000      31.500000  \n",
       "skew                 0.000000       0.000000    1.159830       0.000000  \n",
       "kurtosis            -2.000000      -2.000000    0.105962      -2.000000  \n",
       "95% CI lower       -92.355843    -288.508221    6.928678    -343.745449  \n",
       "95% CI upper       136.355843     359.508221   33.471322     456.745449  \n",
       "Number of trades    82.000000     210.000000  215.000000     224.000000  \n",
       "Number of resets     2.000000       2.000000   10.000000       2.000000  \n",
       "% resets             2.439024       0.952381    4.651163       0.892857  \n",
       "\n",
       "[15 rows x 21 columns]"
      ]
     },
     "metadata": {},
     "output_type": "display_data"
    }
   ],
   "source": [
    "# Generate comparison for trades between resets statistics\n",
    "stat_comparison_df = None\n",
    "for index in range(len(strat_dfs)):\n",
    "    curr_stat_comp = None\n",
    "    if prediction_mean_dfs[index] is not None:\n",
    "        curr_stat_comp = ev.compare_distributions(strat_dfs[index], prediction_mean_dfs[index], directions=[], is_mod_reset=True)\n",
    "        curr_stat_comp.columns = ['strat_{}'.format(index+1), 'pred_mean_{}'.format(index+1)]\n",
    "    if prediction_median_dfs[index] is not None:\n",
    "        median_stat_comp = ev.compare_distributions(strat_dfs[index], prediction_median_dfs[index], directions=[], is_mod_reset=True)\n",
    "        if curr_stat_comp is None:\n",
    "            curr_stat_comp = median_stat_comp\n",
    "            curr_stat_comp.columns = ['strat_{}'.format(index+1), 'pred_median_{}'.format(index+1)]\n",
    "        else:\n",
    "            curr_stat_comp['pred_median_{}'.format(index+1)] = median_stat_comp['Predicted'].values\n",
    "    \n",
    "    if curr_stat_comp is not None:\n",
    "        if stat_comparison_df is None:\n",
    "            stat_comparison_df = curr_stat_comp\n",
    "        else:\n",
    "            stat_comparison_df = pd.concat([stat_comparison_df, curr_stat_comp], axis=1)\n",
    "\n",
    "display(Markdown(\"**Aggregated statistical comparison of actual data vs predicted trade count between resets.**\"))\n",
    "display(stat_comparison_df)"
   ]
  },
  {
   "cell_type": "markdown",
   "id": "a384aecd-c5c9-4c00-9634-a46bd22c79bc",
   "metadata": {},
   "source": [
    "Here cell values are for trades per reset. Rows are:\n",
    "- <b>mean:</b> mean \n",
    "- <b>median:</b> median\n",
    "- <b>std:</b> standard deviation\n",
    "- <b>cv:</b> coefficient of variation <i>(std/mean)</i>\n",
    "- <b>mad:</b> median absolute deviation <i>(median value of the difference between original data and its median)</i> \n",
    "- <b>min:</b> minimum\n",
    "- <b>max:</b> maximum\n",
    "- <b>iqr:</b> interquartile range <i>(spread of the middle 50% of data)</i>\n",
    "- <b>skew:</b> skewness of data around the mean \n",
    "- <b>kurtosis:</b> dependence of variance on extreme outliers (tails)\n",
    "- <b>95% CI lower:</b> lower boundary of 95% confidence interval\n",
    "- <b>95% CI upper:</b> upper boundary of 95% confidence interval\n",
    "- <b>Number of trades:</b> total number of transactions in the dataset\n",
    "- <b>Number of resets:</b> total number of resets\n",
    "- <b>% resets:</b> ratio of number of resets over total number of transactions recorded "
   ]
  },
  {
   "cell_type": "markdown",
   "id": "ebe80668-6704-4125-99a5-92beb018faae",
   "metadata": {},
   "source": [
    "In case of excessive number of strategies compared the matrix view may be overcomplicated. In such case, the comparison for a specific strategy could be displayed separately.\n",
    "<br><br>User needs to choose the 'strategy_num' to be the strategy that needs to be explored separately. <i>(e.g. strategy_num = 4)</i>\n",
    "<br><b> By changing the 'strategy_num' value and executing this block user can view any strategy comparison.\n"
   ]
  },
  {
   "cell_type": "code",
   "execution_count": 19,
   "id": "b43ea72f-84fb-44e6-b155-8a9f9bdda76a",
   "metadata": {},
   "outputs": [
    {
     "data": {
      "text/markdown": [
       "**Single strategy statistical comparison of actual data vs predicted trade count between resets.**"
      ],
      "text/plain": [
       "<IPython.core.display.Markdown object>"
      ]
     },
     "metadata": {},
     "output_type": "display_data"
    },
    {
     "data": {
      "text/html": [
       "<div>\n",
       "<style scoped>\n",
       "    .dataframe tbody tr th:only-of-type {\n",
       "        vertical-align: middle;\n",
       "    }\n",
       "\n",
       "    .dataframe tbody tr th {\n",
       "        vertical-align: top;\n",
       "    }\n",
       "\n",
       "    .dataframe thead th {\n",
       "        text-align: right;\n",
       "    }\n",
       "</style>\n",
       "<table border=\"1\" class=\"dataframe\">\n",
       "  <thead>\n",
       "    <tr style=\"text-align: right;\">\n",
       "      <th></th>\n",
       "      <th>strat_4</th>\n",
       "      <th>pred_mean_4</th>\n",
       "      <th>pred_median_4</th>\n",
       "    </tr>\n",
       "  </thead>\n",
       "  <tbody>\n",
       "    <tr>\n",
       "      <th>mean</th>\n",
       "      <td>39.400000</td>\n",
       "      <td>21.400000</td>\n",
       "      <td>24.166667</td>\n",
       "    </tr>\n",
       "    <tr>\n",
       "      <th>median</th>\n",
       "      <td>41.000000</td>\n",
       "      <td>12.000000</td>\n",
       "      <td>20.000000</td>\n",
       "    </tr>\n",
       "    <tr>\n",
       "      <th>std</th>\n",
       "      <td>17.672012</td>\n",
       "      <td>21.489532</td>\n",
       "      <td>18.648503</td>\n",
       "    </tr>\n",
       "    <tr>\n",
       "      <th>cv</th>\n",
       "      <td>0.448528</td>\n",
       "      <td>1.004184</td>\n",
       "      <td>0.771662</td>\n",
       "    </tr>\n",
       "    <tr>\n",
       "      <th>mad</th>\n",
       "      <td>16.000000</td>\n",
       "      <td>9.000000</td>\n",
       "      <td>13.000000</td>\n",
       "    </tr>\n",
       "    <tr>\n",
       "      <th>min</th>\n",
       "      <td>20.000000</td>\n",
       "      <td>3.000000</td>\n",
       "      <td>4.000000</td>\n",
       "    </tr>\n",
       "    <tr>\n",
       "      <th>max</th>\n",
       "      <td>64.000000</td>\n",
       "      <td>56.000000</td>\n",
       "      <td>49.000000</td>\n",
       "    </tr>\n",
       "    <tr>\n",
       "      <th>iqr</th>\n",
       "      <td>22.000000</td>\n",
       "      <td>20.000000</td>\n",
       "      <td>28.500000</td>\n",
       "    </tr>\n",
       "    <tr>\n",
       "      <th>skew</th>\n",
       "      <td>0.255385</td>\n",
       "      <td>0.908134</td>\n",
       "      <td>0.262541</td>\n",
       "    </tr>\n",
       "    <tr>\n",
       "      <th>kurtosis</th>\n",
       "      <td>-1.224267</td>\n",
       "      <td>-0.670438</td>\n",
       "      <td>-1.575712</td>\n",
       "    </tr>\n",
       "    <tr>\n",
       "      <th>95% CI lower</th>\n",
       "      <td>17.457299</td>\n",
       "      <td>-5.282779</td>\n",
       "      <td>4.596263</td>\n",
       "    </tr>\n",
       "    <tr>\n",
       "      <th>95% CI upper</th>\n",
       "      <td>61.342701</td>\n",
       "      <td>48.082779</td>\n",
       "      <td>43.737070</td>\n",
       "    </tr>\n",
       "    <tr>\n",
       "      <th>Number of trades</th>\n",
       "      <td>268.000000</td>\n",
       "      <td>143.000000</td>\n",
       "      <td>206.000000</td>\n",
       "    </tr>\n",
       "    <tr>\n",
       "      <th>Number of resets</th>\n",
       "      <td>5.000000</td>\n",
       "      <td>5.000000</td>\n",
       "      <td>6.000000</td>\n",
       "    </tr>\n",
       "    <tr>\n",
       "      <th>% resets</th>\n",
       "      <td>1.865672</td>\n",
       "      <td>3.496503</td>\n",
       "      <td>2.912621</td>\n",
       "    </tr>\n",
       "  </tbody>\n",
       "</table>\n",
       "</div>"
      ],
      "text/plain": [
       "                     strat_4  pred_mean_4  pred_median_4\n",
       "mean               39.400000    21.400000      24.166667\n",
       "median             41.000000    12.000000      20.000000\n",
       "std                17.672012    21.489532      18.648503\n",
       "cv                  0.448528     1.004184       0.771662\n",
       "mad                16.000000     9.000000      13.000000\n",
       "min                20.000000     3.000000       4.000000\n",
       "max                64.000000    56.000000      49.000000\n",
       "iqr                22.000000    20.000000      28.500000\n",
       "skew                0.255385     0.908134       0.262541\n",
       "kurtosis           -1.224267    -0.670438      -1.575712\n",
       "95% CI lower       17.457299    -5.282779       4.596263\n",
       "95% CI upper       61.342701    48.082779      43.737070\n",
       "Number of trades  268.000000   143.000000     206.000000\n",
       "Number of resets    5.000000     5.000000       6.000000\n",
       "% resets            1.865672     3.496503       2.912621"
      ]
     },
     "metadata": {},
     "output_type": "display_data"
    }
   ],
   "source": [
    "display(Markdown(\"**Single strategy statistical comparison of actual data vs predicted trade count between resets.**\"))\n",
    "# Choose strategy number to change output\n",
    "strategy_num = 4\n",
    "display(stat_comparison_df[[col for col in stat_comparison_df.columns if str(strategy_num) in col]])"
   ]
  },
  {
   "cell_type": "markdown",
   "id": "0f443c39-befc-408f-98ae-09ff3ed2929d",
   "metadata": {},
   "source": [
    "<b>Run hypothesis test for trades between resets of actual vs predicted data. "
   ]
  },
  {
   "cell_type": "code",
   "execution_count": 22,
   "id": "018c3e68-d978-4b44-8fc8-1156ca73a8d3",
   "metadata": {},
   "outputs": [
    {
     "data": {
      "text/markdown": [
       "**If test is significant we reject the null hypothesis:**"
      ],
      "text/plain": [
       "<IPython.core.display.Markdown object>"
      ]
     },
     "metadata": {},
     "output_type": "display_data"
    },
    {
     "name": "stdout",
     "output_type": "stream",
     "text": [
      "t-test null hypothesis: equal means\n",
      "Mann–Whitney U test: equal ranks (similar distribution)\n"
     ]
    },
    {
     "data": {
      "text/html": [
       "<div>\n",
       "<style scoped>\n",
       "    .dataframe tbody tr th:only-of-type {\n",
       "        vertical-align: middle;\n",
       "    }\n",
       "\n",
       "    .dataframe tbody tr th {\n",
       "        vertical-align: top;\n",
       "    }\n",
       "\n",
       "    .dataframe thead th {\n",
       "        text-align: right;\n",
       "    }\n",
       "</style>\n",
       "<table border=\"1\" class=\"dataframe\">\n",
       "  <thead>\n",
       "    <tr style=\"text-align: right;\">\n",
       "      <th></th>\n",
       "      <th>strat_2(median)</th>\n",
       "      <th>strat_3(mean)</th>\n",
       "      <th>strat_3(median)</th>\n",
       "      <th>strat_4(mean)</th>\n",
       "      <th>strat_4(median)</th>\n",
       "      <th>strat_5(median)</th>\n",
       "      <th>strat_6(mean)</th>\n",
       "      <th>strat_6(median)</th>\n",
       "      <th>strat_7(mean)</th>\n",
       "      <th>strat_7(median)</th>\n",
       "      <th>strat_8(mean)</th>\n",
       "      <th>strat_8(median)</th>\n",
       "      <th>strat_9(median)</th>\n",
       "    </tr>\n",
       "  </thead>\n",
       "  <tbody>\n",
       "    <tr>\n",
       "      <th>t-test p-value</th>\n",
       "      <td>0.020452</td>\n",
       "      <td>0.062086</td>\n",
       "      <td>0.928748</td>\n",
       "      <td>0.187388</td>\n",
       "      <td>0.199205</td>\n",
       "      <td>0.099433</td>\n",
       "      <td>0.48196</td>\n",
       "      <td>0.015195</td>\n",
       "      <td>0.096344</td>\n",
       "      <td>0.740676</td>\n",
       "      <td>0.535415</td>\n",
       "      <td>0.554546</td>\n",
       "      <td>0.45058</td>\n",
       "    </tr>\n",
       "    <tr>\n",
       "      <th>t-test significant</th>\n",
       "      <td>True</td>\n",
       "      <td>False</td>\n",
       "      <td>False</td>\n",
       "      <td>False</td>\n",
       "      <td>False</td>\n",
       "      <td>False</td>\n",
       "      <td>False</td>\n",
       "      <td>True</td>\n",
       "      <td>False</td>\n",
       "      <td>False</td>\n",
       "      <td>False</td>\n",
       "      <td>False</td>\n",
       "      <td>False</td>\n",
       "    </tr>\n",
       "    <tr>\n",
       "      <th>Mann–Whitney U p-value</th>\n",
       "      <td>0.008588</td>\n",
       "      <td>0.142857</td>\n",
       "      <td>1.0</td>\n",
       "      <td>0.222222</td>\n",
       "      <td>0.329004</td>\n",
       "      <td>0.077771</td>\n",
       "      <td>0.301387</td>\n",
       "      <td>0.00506</td>\n",
       "      <td>0.071429</td>\n",
       "      <td>0.647506</td>\n",
       "      <td>0.40165</td>\n",
       "      <td>0.228074</td>\n",
       "      <td>0.161851</td>\n",
       "    </tr>\n",
       "    <tr>\n",
       "      <th>Mann–Whitney U significant</th>\n",
       "      <td>True</td>\n",
       "      <td>False</td>\n",
       "      <td>False</td>\n",
       "      <td>False</td>\n",
       "      <td>False</td>\n",
       "      <td>False</td>\n",
       "      <td>False</td>\n",
       "      <td>True</td>\n",
       "      <td>False</td>\n",
       "      <td>False</td>\n",
       "      <td>False</td>\n",
       "      <td>False</td>\n",
       "      <td>False</td>\n",
       "    </tr>\n",
       "  </tbody>\n",
       "</table>\n",
       "</div>"
      ],
      "text/plain": [
       "                           strat_2(median) strat_3(mean) strat_3(median)  \\\n",
       "t-test p-value                    0.020452      0.062086        0.928748   \n",
       "t-test significant                    True         False           False   \n",
       "Mann–Whitney U p-value            0.008588      0.142857             1.0   \n",
       "Mann–Whitney U significant            True         False           False   \n",
       "\n",
       "                           strat_4(mean) strat_4(median) strat_5(median)  \\\n",
       "t-test p-value                  0.187388        0.199205        0.099433   \n",
       "t-test significant                 False           False           False   \n",
       "Mann–Whitney U p-value          0.222222        0.329004        0.077771   \n",
       "Mann–Whitney U significant         False           False           False   \n",
       "\n",
       "                           strat_6(mean) strat_6(median) strat_7(mean)  \\\n",
       "t-test p-value                   0.48196        0.015195      0.096344   \n",
       "t-test significant                 False            True         False   \n",
       "Mann–Whitney U p-value          0.301387         0.00506      0.071429   \n",
       "Mann–Whitney U significant         False            True         False   \n",
       "\n",
       "                           strat_7(median) strat_8(mean) strat_8(median)  \\\n",
       "t-test p-value                    0.740676      0.535415        0.554546   \n",
       "t-test significant                   False         False           False   \n",
       "Mann–Whitney U p-value            0.647506       0.40165        0.228074   \n",
       "Mann–Whitney U significant           False         False           False   \n",
       "\n",
       "                           strat_9(median)  \n",
       "t-test p-value                     0.45058  \n",
       "t-test significant                   False  \n",
       "Mann–Whitney U p-value            0.161851  \n",
       "Mann–Whitney U significant           False  "
      ]
     },
     "metadata": {},
     "output_type": "display_data"
    }
   ],
   "source": [
    "# Generate hypothesis test for trades between resets statistics of actual vs predicted\n",
    "# Evaluate given distributions using Welch’s t-test and Mann–Whitney U tests\n",
    "# Important to note that t-test asumes data normality and compares means when variances are different\n",
    "# Mann–Whitney U test compares medians and distribution shapes with no normality assumption\n",
    "\n",
    "hypothesis_dfs = pd.DataFrame()\n",
    "for index in range(len(strat_dfs)):\n",
    "    actual = strat_dfs[index].loc[strat_dfs[index]['reset_mod'], 'trade_count_mod']\n",
    "    # Mean-based hypothesis test\n",
    "    if prediction_mean_dfs[index] is not None:\n",
    "        predicted = prediction_mean_dfs[index].loc[prediction_mean_dfs[index]['reset'], 'trade_count']\n",
    "        mean_test = evaluate_hypothesis_test(index, actual, predicted, label='mean', alpha=0.05)\n",
    "        hypothesis_dfs = pd.concat([hypothesis_dfs, mean_test], axis=1)\n",
    "    # Median-based hypothesis test\n",
    "    if prediction_median_dfs[index] is not None:\n",
    "        predicted = prediction_median_dfs[index].loc[prediction_median_dfs[index]['reset'], 'trade_count']\n",
    "        median_test = evaluate_hypothesis_test(index, actual, predicted, label='median', alpha=0.05)\n",
    "        hypothesis_dfs = pd.concat([hypothesis_dfs, median_test], axis=1)\n",
    "\n",
    "display(Markdown(\"**If test is significant we reject the null hypothesis:**\"))\n",
    "print('t-test null hypothesis: equal means')\n",
    "print('Mann–Whitney U test: equal ranks (similar distribution)')\n",
    "display(hypothesis_dfs)"
   ]
  },
  {
   "cell_type": "markdown",
   "id": "add9ead0-f8ac-4fb1-af9f-2d2650ecf870",
   "metadata": {},
   "source": [
    "If the t-test is statistically significant, one rejects the null hypothesis, meaning the means of these two distributions are not statistically the same.\n",
    "<br> If Mann–Whitney U test showed statistical significance to reject similarity in ranks, it implies samples are from different distributions.\n",
    "<br><b><i>If small number of entries are used to compare distributions, the probability of incorrect reasoning of the test outcome increases.</i>"
   ]
  },
  {
   "cell_type": "markdown",
   "id": "014129d7-bf45-48ed-9632-965007cacb50",
   "metadata": {},
   "source": [
    "<br><br><br>When the number of resets detected in actual data is similar to that of predicted data it is reasonable to compare error between predicted and actual number of trades between resets. \n",
    "<br><br>Actual and predicted number of trades between resets are sorted in ascending order before the comparison. \n",
    "<br>User can choose 'reset_count_tolerance' value to be any positive number that indicates the difference in number of actual and predicted resets that could be tolerated if these numbers do not match. <i>(e.g. actual number of resets is 6 while predicted number of resets is 5. It could still be reasonable to compare the errors, then setting <b>reset_count_tolerance=1</b>, which is the difference beteween reset numbers will ensure the script compares the matching part of actual vs predicted resets. In this example that will be the first 5 resets.)</i>\n",
    "<br><br>The output shows: \n",
    "- Mean absolute error (MAE)\n",
    "- Root mean square error (RMSE)\n",
    "- Mean absolute percentage error (MAPE)\n",
    "\n",
    "<br> User can choose <b>'plot_trade_count'</b> and <b>'plot_error_dist'</b> to be either True or False, indicating whether to plot predicted trade count between resets vs actual and plot error distribution histogram, respectively <i>(e.g. plot_trade_count = True and plot_error_dist=True to show both plots).</i>  "
   ]
  },
  {
   "cell_type": "code",
   "execution_count": 20,
   "id": "d568d450-d21d-4adc-b24f-3c1ec8751a1f",
   "metadata": {},
   "outputs": [
    {
     "data": {
      "image/png": "[encoded data removed]",
      "text/plain": [
       "<Figure size 432x432 with 1 Axes>"
      ]
     },
     "metadata": {
      "needs_background": "light"
     },
     "output_type": "display_data"
    },
    {
     "data": {
      "image/png": "[encoded data removed]",
      "text/plain": [
       "<Figure size 576x360 with 1 Axes>"
      ]
     },
     "metadata": {
      "needs_background": "light"
     },
     "output_type": "display_data"
    },
    {
     "data": {
      "image/png": "[encoded data removed]",
      "text/plain": [
       "<Figure size 432x432 with 1 Axes>"
      ]
     },
     "metadata": {
      "needs_background": "light"
     },
     "output_type": "display_data"
    },
    {
     "data": {
      "image/png": "[encoded data removed]",
      "text/plain": [
       "<Figure size 576x360 with 1 Axes>"
      ]
     },
     "metadata": {
      "needs_background": "light"
     },
     "output_type": "display_data"
    },
    {
     "data": {
      "text/html": [
       "<div>\n",
       "<style scoped>\n",
       "    .dataframe tbody tr th:only-of-type {\n",
       "        vertical-align: middle;\n",
       "    }\n",
       "\n",
       "    .dataframe tbody tr th {\n",
       "        vertical-align: top;\n",
       "    }\n",
       "\n",
       "    .dataframe thead th {\n",
       "        text-align: right;\n",
       "    }\n",
       "</style>\n",
       "<table border=\"1\" class=\"dataframe\">\n",
       "  <thead>\n",
       "    <tr style=\"text-align: right;\">\n",
       "      <th></th>\n",
       "      <th>strat_4(mean)</th>\n",
       "      <th>strat_4(median)</th>\n",
       "    </tr>\n",
       "  </thead>\n",
       "  <tbody>\n",
       "    <tr>\n",
       "      <th>MAE</th>\n",
       "      <td>18.000000</td>\n",
       "      <td>20.200000</td>\n",
       "    </tr>\n",
       "    <tr>\n",
       "      <th>RMSE</th>\n",
       "      <td>19.204166</td>\n",
       "      <td>20.923671</td>\n",
       "    </tr>\n",
       "    <tr>\n",
       "      <th>MAPE</th>\n",
       "      <td>55.331448</td>\n",
       "      <td>57.168721</td>\n",
       "    </tr>\n",
       "  </tbody>\n",
       "</table>\n",
       "</div>"
      ],
      "text/plain": [
       "      strat_4(mean)  strat_4(median)\n",
       "MAE       18.000000        20.200000\n",
       "RMSE      19.204166        20.923671\n",
       "MAPE      55.331448        57.168721"
      ]
     },
     "metadata": {},
     "output_type": "display_data"
    }
   ],
   "source": [
    "reset_count_tolerance = 1\n",
    "plot_trade_count = True\n",
    "plot_error_dist = True\n",
    "\n",
    "prediction_error_dfs = pd.DataFrame()\n",
    "\n",
    "for index in range(len(strat_dfs)):\n",
    "    actual_df = strat_dfs[index]\n",
    "    # Mean-based prediction\n",
    "    if prediction_mean_dfs[index] is not None:\n",
    "        mean_error = evaluate_prediction_error(\n",
    "            index, actual_df, prediction_mean_dfs[index], label='mean',\n",
    "            reset_count_tolerance=reset_count_tolerance,\n",
    "            plot_trade_count=plot_trade_count, plot_error_dist=plot_error_dist,\n",
    "            is_mod_reset=True\n",
    "        )\n",
    "        if mean_error is not None:\n",
    "            prediction_error_dfs = pd.concat([prediction_error_dfs, mean_error], axis=1)\n",
    "    # Median-based prediction\n",
    "    if prediction_median_dfs[index] is not None:\n",
    "        median_error = evaluate_prediction_error(\n",
    "            index, actual_df, prediction_median_dfs[index], label='median',\n",
    "            reset_count_tolerance=reset_count_tolerance,\n",
    "            plot_trade_count=plot_trade_count, plot_error_dist=plot_error_dist,\n",
    "            is_mod_reset=True\n",
    "        )\n",
    "        if median_error is not None:\n",
    "            prediction_error_dfs = pd.concat([prediction_error_dfs, median_error], axis=1)\n",
    "\n",
    "display(prediction_error_dfs)"
   ]
  },
  {
   "cell_type": "markdown",
   "id": "e2f81d78-d617-4a14-99e3-76a8c906cd09",
   "metadata": {},
   "source": [
    "The above is the comparison of various error metrics between actual data and predictions. It is important to choose proper alignment between actual and predicted transaction counts. Currently, the actual and predicted values are ordered based on the transaction count (from low to high). "
   ]
  }
 ],
 "metadata": {
  "kernelspec": {
   "display_name": "Python 3 (ipykernel)",
   "language": "python",
   "name": "python3"
  },
  "language_info": {
   "codemirror_mode": {
    "name": "ipython",
    "version": 3
   },
   "file_extension": ".py",
   "mimetype": "text/x-python",
   "name": "python",
   "nbconvert_exporter": "python",
   "pygments_lexer": "ipython3",
   "version": "3.9.7"
  }
 },
 "nbformat": 4,
 "nbformat_minor": 5
}
